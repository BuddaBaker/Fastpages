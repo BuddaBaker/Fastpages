{
 "cells": [
  {
   "cell_type": "markdown",
   "metadata": {},
   "source": [
    "# \"Bash Checks\""
   ]
  },
  {
   "cell_type": "code",
   "execution_count": 5,
   "metadata": {
    "vscode": {
     "languageId": "shellscript"
    }
   },
   "outputs": [
    {
     "name": "stdout",
     "output_type": "stream",
     "text": [
      "Using conditional statement to create a project directory and project\n",
      "Directory /home/prasithchilla exists.04l\u001b[?2004l\u001b[?2004l\u001b[?2004l\u001b[?2004l\u001b[?2004l\u001b[?2004l\u001b[?2004l\u001b[?2004l\u001b[?2004l\u001b[?2004l\u001b[?2004l\n",
      "Directory /home/prasithchilla/FastPages exists.l\u001b[?2004l\u001b[?2004l\u001b[?2004l\u001b[?2004l\u001b[?2004l\n",
      "\u001b[?2004h"
     ]
    },
    {
     "ename": "",
     "evalue": "1",
     "output_type": "error",
     "traceback": []
    }
   ],
   "source": [
    "echo \"Using conditional statement to create a project directory and project\"\n",
    "\n",
    "# Variable section\n",
    "export project_dir=/home/prasithchilla  # change vscode to different name to test git clone\n",
    "export project=$project_dir/FastPages  # change APCSP to name of project from git clone\n",
    "export project_repo=\"https://github.com/BuddaBaker/FastPages.git\"  # change to project of choice\n",
    "\n",
    "cd ~    # start in home directory\n",
    "\n",
    "# Conditional block to make a project directory\n",
    "if [ ! -d $project_dir ]\n",
    "then \n",
    "    echo \"Directory $project_dir does not exists... making directory $project_dir\"\n",
    "    mkdir -p $project_dir\n",
    "fi\n",
    "echo \"Directory $project_dir exists.\" \n",
    "\n",
    "# Conditional block to git clone a project from project_repo\n",
    "if [ ! -d $project ]\n",
    "then\n",
    "    echo \"Directory $project does not exists... cloning $project_repo\"\n",
    "    cd $project_dir\n",
    "    git clone $project_repo\n",
    "    cd ~\n",
    "fi\n",
    "echo \"Directory $project exists.\""
   ]
  },
  {
   "cell_type": "code",
   "execution_count": null,
   "metadata": {
    "vscode": {
     "languageId": "shellscript"
    }
   },
   "outputs": [],
   "source": [
    "Look inside Fastpages/Github page project\n",
    "\n",
    "All computers contain files and directories. The clone brought more files from cloud to your machine. Using the bash shell you will see some commands that show and interact with files and directories.\n",
    "\n",
    "\"ls\" lists computer files in Unix and Unix-like operating systems\n",
    "\"cd\" offers way to navigate and change working directory\n",
    "\"pwd\" print working directory\n",
    "\"echo\" used to display line of text/string that are passed as an argument"
   ]
  },
  {
   "cell_type": "code",
   "execution_count": 6,
   "metadata": {
    "vscode": {
     "languageId": "shellscript"
    }
   },
   "outputs": [
    {
     "name": "stdout",
     "output_type": "stream",
     "text": [
      "Navigate to project, then navigate to area where files were cloned\n",
      "/home/prasithchilla/FastPages\n",
      "\u001b[?2004h\u001b[?2004l\u001b[?2004l\n",
      "list top level or root of files with project pulled from github\n",
      "\u001b[0m\u001b[01;35m2022-05-15-07-21-16.png\u001b[0m  _config.yml         \u001b[01;34mimages\u001b[0m      \u001b[01;32mMakefile\u001b[0m    \u001b[01;32mREADME.md\u001b[0m\n",
      "\u001b[01;35m2022-05-15-07-24-25.png\u001b[0m  \u001b[01;32mdocker-compose.yml\u001b[0m  \u001b[01;34m_includes\u001b[0m   \u001b[01;34m_notebooks\u001b[0m  \u001b[01;34m_sass\u001b[0m\n",
      "\u001b[01;35m2022-05-15-07-25-15.png\u001b[0m  \u001b[01;34mFastPages\u001b[0m           index.html  \u001b[01;34m_pages\u001b[0m      \u001b[01;34m_word\u001b[0m\n",
      "\u001b[01;34m_action_files\u001b[0m            \u001b[01;34m_fastpages_docs\u001b[0m     \u001b[01;34m_layouts\u001b[0m    \u001b[01;34m_plugins\u001b[0m\n",
      "\u001b[01;34massets\u001b[0m                   \u001b[01;32mGemfile\u001b[0m             LICENSE     \u001b[01;34m_posts\u001b[0m\n",
      "\u001b[?2004h\u001b[?2004l\u001b[?2004l\n",
      "list again with hidden files pulled from github\n",
      "\u001b[0m\u001b[01;34m.\u001b[0m                        .devcontainer.json  .gitignore  \u001b[01;34m_pages\u001b[0m\n",
      "\u001b[01;34m..\u001b[0m                       \u001b[01;32mdocker-compose.yml\u001b[0m  \u001b[01;34mimages\u001b[0m      \u001b[01;34m_plugins\u001b[0m\n",
      "\u001b[01;35m2022-05-15-07-21-16.png\u001b[0m  \u001b[01;34mFastPages\u001b[0m           \u001b[01;34m_includes\u001b[0m   \u001b[01;34m_posts\u001b[0m\n",
      "\u001b[01;35m2022-05-15-07-24-25.png\u001b[0m  \u001b[01;34m_fastpages_docs\u001b[0m     index.html  \u001b[01;32mREADME.md\u001b[0m\n",
      "\u001b[01;35m2022-05-15-07-25-15.png\u001b[0m  \u001b[01;32mGemfile\u001b[0m             \u001b[01;34m_layouts\u001b[0m    \u001b[01;34m_sass\u001b[0m\n",
      "\u001b[01;34m_action_files\u001b[0m            \u001b[01;34m.git\u001b[0m                LICENSE     \u001b[01;34m_word\u001b[0m\n",
      "\u001b[01;34massets\u001b[0m                   .gitattributes      \u001b[01;32mMakefile\u001b[0m\n",
      "_config.yml              \u001b[01;34m.github\u001b[0m             \u001b[01;34m_notebooks\u001b[0m\n",
      "\u001b[?2004h\u001b[?2004l\u001b[?2004l\n",
      "list all files in long format\n",
      "total 492[?2004l\n",
      "drwxr-xr-x 17 prasithchilla prasithchilla   4096 Aug 30 15:30 \u001b[0m\u001b[01;34m.\u001b[0m\n",
      "drwxr-x--- 13 prasithchilla prasithchilla   4096 Aug 30 15:29 \u001b[01;34m..\u001b[0m\n",
      "-rw-r--r--  1 prasithchilla prasithchilla 207007 Aug 30 15:29 \u001b[01;35m2022-05-15-07-21-16.png\u001b[0m\n",
      "-rw-r--r--  1 prasithchilla prasithchilla  90979 Aug 30 15:29 \u001b[01;35m2022-05-15-07-24-25.png\u001b[0m\n",
      "-rw-r--r--  1 prasithchilla prasithchilla  81691 Aug 30 15:29 \u001b[01;35m2022-05-15-07-25-15.png\u001b[0m\n",
      "drwxr-xr-x  2 prasithchilla prasithchilla   4096 Aug 30 15:29 \u001b[01;34m_action_files\u001b[0m\n",
      "drwxr-xr-x  4 prasithchilla prasithchilla   4096 Aug 30 15:29 \u001b[01;34massets\u001b[0m\n",
      "-rw-r--r--  1 prasithchilla prasithchilla   3654 Aug 30 15:29 _config.yml\n",
      "-rw-r--r--  1 prasithchilla prasithchilla    420 Aug 30 15:29 .devcontainer.json\n",
      "-rwxr-xr-x  1 prasithchilla prasithchilla   1136 Aug 30 15:29 \u001b[01;32mdocker-compose.yml\u001b[0m\n",
      "drwxr-xr-x 16 prasithchilla prasithchilla   4096 Aug 30 15:30 \u001b[01;34mFastPages\u001b[0m\n",
      "drwxr-xr-x  2 prasithchilla prasithchilla   4096 Aug 30 15:29 \u001b[01;34m_fastpages_docs\u001b[0m\n",
      "-rwxr-xr-x  1 prasithchilla prasithchilla   1304 Aug 30 15:29 \u001b[01;32mGemfile\u001b[0m\n",
      "drwxr-xr-x  8 prasithchilla prasithchilla   4096 Aug 30 15:29 \u001b[01;34m.git\u001b[0m\n",
      "-rw-r--r--  1 prasithchilla prasithchilla     84 Aug 30 15:29 .gitattributes\n",
      "drwxr-xr-x  4 prasithchilla prasithchilla   4096 Aug 30 15:29 \u001b[01;34m.github\u001b[0m\n",
      "-rw-r--r--  1 prasithchilla prasithchilla    161 Aug 30 15:29 .gitignore\n",
      "drwxr-xr-x  3 prasithchilla prasithchilla   4096 Aug 30 15:29 \u001b[01;34mimages\u001b[0m\n",
      "drwxr-xr-x  2 prasithchilla prasithchilla   4096 Aug 30 15:29 \u001b[01;34m_includes\u001b[0m\n",
      "-rw-r--r--  1 prasithchilla prasithchilla    799 Aug 30 15:29 index.html\n",
      "drwxr-xr-x  2 prasithchilla prasithchilla   4096 Aug 30 15:29 \u001b[01;34m_layouts\u001b[0m\n",
      "-rw-r--r--  1 prasithchilla prasithchilla  11351 Aug 30 15:29 LICENSE\n",
      "-rwxr-xr-x  1 prasithchilla prasithchilla   1422 Aug 30 15:29 \u001b[01;32mMakefile\u001b[0m\n",
      "drwxr-xr-x  4 prasithchilla prasithchilla   4096 Aug 30 15:29 \u001b[01;34m_notebooks\u001b[0m\n",
      "drwxr-xr-x  2 prasithchilla prasithchilla   4096 Aug 30 15:29 \u001b[01;34m_pages\u001b[0m\n",
      "drwxr-xr-x  2 prasithchilla prasithchilla   4096 Aug 30 15:29 \u001b[01;34m_plugins\u001b[0m\n",
      "drwxr-xr-x  2 prasithchilla prasithchilla   4096 Aug 30 15:29 \u001b[01;34m_posts\u001b[0m\n",
      "-rwxr-xr-x  1 prasithchilla prasithchilla   3611 Aug 30 15:29 \u001b[01;32mREADME.md\u001b[0m\n",
      "drwxr-xr-x  3 prasithchilla prasithchilla   4096 Aug 30 15:29 \u001b[01;34m_sass\u001b[0m\n",
      "drwxr-xr-x  2 prasithchilla prasithchilla   4096 Aug 30 15:29 \u001b[01;34m_word\u001b[0m\n",
      "\u001b[?2004h"
     ]
    },
    {
     "ename": "",
     "evalue": "1",
     "output_type": "error",
     "traceback": []
    }
   ],
   "source": [
    "echo \"Navigate to project, then navigate to area where files were cloned\"\n",
    "cd $project\n",
    "pwd\n",
    "\n",
    "echo \"\"\n",
    "echo \"list top level or root of files with project pulled from github\"\n",
    "ls\n",
    "\n",
    "echo \"\"\n",
    "echo \"list again with hidden files pulled from github\"\n",
    "ls -a   # hidden files flag, many shell commands have flags\n",
    "\n",
    "echo \"\"\n",
    "echo \"list all files in long format\"\n",
    "ls -al   # all files and long listing"
   ]
  }
 ],
 "metadata": {
  "kernelspec": {
   "display_name": "Bash",
   "language": "bash",
   "name": "bash"
  },
  "language_info": {
   "codemirror_mode": "shell",
   "file_extension": ".sh",
   "mimetype": "text/x-sh",
   "name": "bash"
  },
  "orig_nbformat": 4
 },
 "nbformat": 4,
 "nbformat_minor": 2
}
