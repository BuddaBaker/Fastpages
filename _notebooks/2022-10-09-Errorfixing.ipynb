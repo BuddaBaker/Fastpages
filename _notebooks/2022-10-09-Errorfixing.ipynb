{
 "cells": [
  {
   "cell_type": "markdown",
   "metadata": {},
   "source": [
    "# Error Fixing\n",
    "> Error Fixing\n",
    "\n",
    "- toc: true \n",
    "- badges: true\n",
    "- comments: true\n",
    "- categories: [Posts]\n",
    "- title: Error Fixing"
   ]
  },
  {
   "cell_type": "code",
   "execution_count": 1,
   "metadata": {},
   "outputs": [
    {
     "name": "stdout",
     "output_type": "stream",
     "text": [
      "['a', 'b', 'c', 'd', 'e', 'f', 'g', 'h', 'i', 'j', 'k', 'l', 'm', 'n', 'o', 'p', 'q', 'r', 's', 't', 'u', 'v', 'w', 'x', 'y', 'z']\n"
     ]
    }
   ],
   "source": [
    "alphabet = \"abcdefghijklmnopqrstuvwxyz\"\n",
    "\n",
    "alphabetList = []\n",
    "\n",
    "for i in alphabet:\n",
    "    alphabetList.append(i)\n",
    "\n",
    "print(alphabetList)\n"
   ]
  },
  {
   "cell_type": "code",
   "execution_count": null,
   "metadata": {},
   "outputs": [],
   "source": [
    "letter = input(\"What letter would you like to check?\")\n",
    "\n",
    "i = 0\n",
    "\n",
    "while i < 26:\n",
    "    if alphabetList[i] == letter:\n",
    "        print(\"The letter \" + letter + \" is the \" + str(i) + \" letter in the alphabet\")\n",
    "    i += 1"
   ]
  },
  {
   "cell_type": "code",
   "execution_count": null,
   "metadata": {},
   "outputs": [],
   "source": [
    "letter = input(\"What letter would you like to check?\")\n",
    "\n",
    "for i in alphabetList:\n",
    "    count = 0\n",
    "    if i == letter:\n",
    "        print(\"The letter \" + letter + \" is the \" + str(count) + \" letter in the alphabet\")\n",
    "    count += 1"
   ]
  },
  {
   "cell_type": "code",
   "execution_count": null,
   "metadata": {},
   "outputs": [],
   "source": [
    "evens = []\n",
    "i = 0\n",
    "\n",
    "while i <= 10:\n",
    "    evens.append(i)\n",
    "    i += 2\n",
    "\n",
    "print(evens)  "
   ]
  },
  {
   "cell_type": "code",
   "execution_count": null,
   "metadata": {},
   "outputs": [],
   "source": [
    "odds = []\n",
    "i = 0\n",
    "\n",
    "while i <= 10:\n",
    "    odds.append(i)\n",
    "    i += 2\n",
    "\n",
    "print(odds)"
   ]
  },
  {
   "cell_type": "code",
   "execution_count": null,
   "metadata": {},
   "outputs": [],
   "source": [
    "numbers = [0,1,2,3,4,5,6,7,8,9,10]\n",
    "evens = []\n",
    "\n",
    "for i in numbers:\n",
    "    if (numbers[i] % 2 == 0):\n",
    "        evens.append(numbers[i])\n",
    "\n",
    "print(evens)"
   ]
  },
  {
   "cell_type": "code",
   "execution_count": null,
   "metadata": {},
   "outputs": [],
   "source": [
    "numbers = [0,1,2,3,4,5,6,7,8,9,10]\n",
    "odds = []\n",
    "\n",
    "for i in numbers:\n",
    "    if (numbers[i] % 2 == 0):\n",
    "        odds.append(numbers[i])\n",
    "\n",
    "print(odds)"
   ]
  },
  {
   "cell_type": "code",
   "execution_count": null,
   "metadata": {},
   "outputs": [],
   "source": [
    "numbers = []\n",
    "newNumbers = []\n",
    "i = 0\n",
    "\n",
    "while i < 100:\n",
    "    numbers.append(i)\n",
    "    i += 1\n",
    "\n",
    "for i in numbers:\n",
    "    if numbers[i] % 5 == 0:\n",
    "        newNumbers.append(numbers[i])\n",
    "    if numbers[i] % 2 == 0:\n",
    "        newNumbers.append(numbers[i])\n",
    "\n",
    "print(newNumbers) "
   ]
  },
  {
   "cell_type": "markdown",
   "metadata": {},
   "source": [
    "Hacks:\n",
    "- errors that may come up include issues with people not being able to get to site and issues with people not getting the correct information\n",
    "- "
   ]
  }
 ],
 "metadata": {
  "kernelspec": {
   "display_name": "Python 3.9.12 ('base': conda)",
   "language": "python",
   "name": "python3"
  },
  "language_info": {
   "codemirror_mode": {
    "name": "ipython",
    "version": 3
   },
   "file_extension": ".py",
   "mimetype": "text/x-python",
   "name": "python",
   "nbconvert_exporter": "python",
   "pygments_lexer": "ipython3",
   "version": "3.9.12"
  },
  "orig_nbformat": 4,
  "vscode": {
   "interpreter": {
    "hash": "eb0c6f2cfc33f72ce3c0f4d4daeda7f779d16a1228752f49211f3596bf51e2a4"
   }
  }
 },
 "nbformat": 4,
 "nbformat_minor": 2
}
