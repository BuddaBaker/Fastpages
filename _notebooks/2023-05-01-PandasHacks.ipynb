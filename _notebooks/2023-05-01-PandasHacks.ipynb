{
 "cells": [
  {
   "cell_type": "markdown",
   "metadata": {},
   "source": [
    "# Pandas Hacks\n",
    "> Pandas Hacks"
   ]
  },
  {
   "attachments": {},
   "cell_type": "markdown",
   "metadata": {},
   "source": [
    "# Pandas Work"
   ]
  },
  {
   "cell_type": "code",
   "execution_count": 4,
   "metadata": {},
   "outputs": [
    {
     "data": {
      "image/png": "[encoded data removed]",
      "text/plain": [
       "<Figure size 432x288 with 1 Axes>"
      ]
     },
     "metadata": {
      "needs_background": "light"
     },
     "output_type": "display_data"
    },
    {
     "name": "stdout",
     "output_type": "stream",
     "text": [
      "   Year    Team  Game  Win  Home   MP  FG  FGA    FGP  TP  ...    FTP  ORB  \\\n",
      "0  1980  Lakers     1    1     1  240  48   89  0.539   0  ...  0.867   12   \n",
      "1  1980  Lakers     2    0     1  240  48   95  0.505   0  ...  0.667   15   \n",
      "2  1980  Lakers     3    1     0  240  44   92  0.478   0  ...  0.767   22   \n",
      "3  1980  Lakers     4    0     0  240  44   93  0.473   0  ...  0.737   18   \n",
      "4  1980  Lakers     5    1     1  240  41   91  0.451   0  ...  0.788   19   \n",
      "\n",
      "   DRB  TRB  AST  STL  BLK  TOV  PF  PTS  \n",
      "0   31   43   30    5    9   17  24  109  \n",
      "1   37   52   32   12    7   26  27  104  \n",
      "2   34   56   20    5    5   20  25  111  \n",
      "3   31   49   23   12    6   19  22  102  \n",
      "4   37   56   28    7    6   21  27  108  \n",
      "\n",
      "[5 rows x 24 columns]\n"
     ]
    }
   ],
   "source": [
    "import pandas as pd\n",
    "import matplotlib.pyplot as plt\n",
    "\n",
    "# Load the CSV file into a pandas dataframe\n",
    "df = pd.read_csv('files/championsdata.csv')\n",
    "\n",
    "# Filter the data to only include the Lakers team\n",
    "lakers_df = df[df['Team'] == 'Lakers']\n",
    "\n",
    "# Create a scatter plot of FGA vs PTS for the Lakers team\n",
    "plt.scatter(lakers_df['FGA'], lakers_df['PTS'])\n",
    "plt.title('Lakers: FGA vs PTS')\n",
    "plt.xlabel('Field Goal Attempts (FGA)')\n",
    "plt.ylabel('Points (PTS)')\n",
    "plt.show()\n",
    "\n",
    "df.describe()\n",
    "\n",
    "print(df.head())"
   ]
  },
  {
   "attachments": {},
   "cell_type": "markdown",
   "metadata": {},
   "source": [
    "1. What are the two primary data structures in pandas and how do they differ? The two primary data structures in Pandas are Series and DataFrame. A Series is a one-dimensional labeled array that can hold any data type, while a DataFrame is a two-dimensional labeled data structure with columns of potentially different data types.\n",
    "2. How do you read a CSV file into a pandas DataFrame? To read a CSV file into a pandas DataFrame, you can use the read_csv() function from the pandas library. For example, df = pd.read_csv('filename.csv')\n",
    "3. How do you select a single column from a pandas DataFrame? To select a single column from a pandas DataFrame, you can use the square bracket notation with the name of the column as a string. For example, df['column_name'].\n",
    "4. How do you filter rows in a pandas DataFrame based on a condition? To filter rows in a pandas DataFrame based on a condition, you can use boolean indexing. For example, df[df['column_name'] > 5] will return all rows where the value in the 'column_name' column is greater than 5.\n",
    "5. How do you group rows in a pandas DataFrame by a particular column? To group rows in a pandas DataFrame by a particular column, you can use the groupby() method. For example, df.groupby('column_name').\n",
    "6. How do you aggregate data in a pandas DataFrame using functions like sum and mean? To aggregate data in a pandas DataFrame using functions like sum and mean, you can use the agg() method. For example, df.groupby('column_name').agg({'column_to_aggregate': 'sum'}).\n",
    "7. How do you handle missing values in a pandas DataFrame? To handle missing values in a pandas DataFrame, you can use the fillna() method to fill in missing values with a specified value, or use the dropna() method to remove rows with missing values.\n",
    "8. How do you merge two pandas DataFrames together? To merge two pandas DataFrames together, you can use the merge() function. For example, merged_df = pd.merge(df1, df2, on='column_name').To merge two pandas DataFrames together, you can use the merge() function. For example, merged_df = pd.merge(df1, df2, on='column_name').\n",
    "9. How do you export a pandas DataFrame to a CSV file? To export a pandas DataFrame to a CSV file, you can use the to_csv() method. For example, df.to_csv('filename.csv').\n",
    "10. What is the difference between a Series and a DataFrame in Pandas? The main difference between a Series and a DataFrame in Pandas is that a Series is a one-dimensional labeled array while a DataFrame is a two-dimensional labeled data structure. A DataFrame can be thought of as a collection of Series objects, where each Series represents a column in the DataFrame."
   ]
  }
 ],
 "metadata": {
  "kernelspec": {
   "display_name": "base",
   "language": "python",
   "name": "python3"
  },
  "language_info": {
   "codemirror_mode": {
    "name": "ipython",
    "version": 3
   },
   "file_extension": ".py",
   "mimetype": "text/x-python",
   "name": "python",
   "nbconvert_exporter": "python",
   "pygments_lexer": "ipython3",
   "version": "3.9.12"
  },
  "orig_nbformat": 4
 },
 "nbformat": 4,
 "nbformat_minor": 2
}
