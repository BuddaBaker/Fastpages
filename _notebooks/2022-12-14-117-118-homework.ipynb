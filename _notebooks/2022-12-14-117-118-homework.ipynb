{
 "cells": [
  {
   "attachments": {},
   "cell_type": "markdown",
   "metadata": {},
   "source": [
    "# 3.17 - 3.18\n",
    "- title: Homework 3.17 - 3.18\n",
    "- permalink: /homework1718"
   ]
  },
  {
   "attachments": {},
   "cell_type": "markdown",
   "metadata": {},
   "source": [
    "# 3.17 Algorithmic Efficiency"
   ]
  },
  {
   "attachments": {},
   "cell_type": "markdown",
   "metadata": {},
   "source": [
    "## Vocabulary\n",
    "- Problem: general description of a task that can or cannot be solved algorithmically\n",
    "    - Decision Problem: problem with yes or no example\n",
    "    - Organization Problem:problem with a goal of finding the best answer\n",
    "- Instance: problem with a specific input\n",
    "- Efficiency: amount of computing needed to solve a problem\n",
    "    - Polynomial Efficiency (Good): Work is proportional to time\n",
    "    - Exponential Efficiency (Bad): Work is not proportial to time (2:1)\n",
    "- Heuristic Approach: When optimal solutions are inefficient, look for possibly best solution\n",
    "- Decidable Problem: Problem with a specific input that will give a certain output\n",
    "- Undecidable Problem: Problem that cannot be solved and can't give an output\n"
   ]
  },
  {
   "attachments": {},
   "cell_type": "markdown",
   "metadata": {},
   "source": [
    "## Notes\n",
    "- an instance is a problem with a specific input\n",
    "- Computing is the total amount of time required to solve an entire problem\n",
    "- Polynomial Efficiency- Everytime you go through the list it would get longer, the time to code ratio is 1:1\n",
    "- Decidable problem: Problem with a specific input that will give a certain output\n",
    "- Undecidable problem: Problem that cannot be solved and can't give an output\n",
    "- The goal of all code is to be the most efficient and solve a problem in least amount of time needed\n",
    "- More cycles of a code means it will take a longer time to run it all\n",
    "- Hueristic approach sacrifices optimal solution in order to achieve efficiency\n"
   ]
  },
  {
   "attachments": {},
   "cell_type": "markdown",
   "metadata": {},
   "source": [
    "## Challenge\n",
    "Try and fix this ineficcient code!\n",
    "Only change the code between the two commented lines.\n",
    "Fully programmed solution will improve your grade, at a minimum show that you tried."
   ]
  },
  {
   "cell_type": "code",
   "execution_count": 3,
   "metadata": {},
   "outputs": [
    {
     "name": "stdout",
     "output_type": "stream",
     "text": [
      "0.9315996170043945 seconds\n"
     ]
    }
   ],
   "source": [
    "import time\n",
    "numlist = [1,3,5,7,9,11,13,15,17,19]\n",
    "valuelist = [0,3,6,9,12,15,18,21]\n",
    "def isvalue(value,array):\n",
    "    #--------------------\n",
    "    exists = False\n",
    "    while exists == False:\n",
    "        for i in range(len(array)):\n",
    "            if value == array[i]:\n",
    "                exists = True\n",
    "        if exists == False:\n",
    "            return exists\n",
    "    \n",
    "    #--------------------\n",
    "\n",
    "starttime = time.time()\n",
    "for i in range(100000):\n",
    "    for i in range(len(valuelist)):\n",
    "        x = isvalue(valuelist[i],numlist)\n",
    "endtime = time.time()\n",
    "print(endtime-starttime,'seconds') "
   ]
  },
  {
   "attachments": {},
   "cell_type": "markdown",
   "metadata": {},
   "source": [
    "# 3.18 Undecidable Problems"
   ]
  },
  {
   "attachments": {},
   "cell_type": "markdown",
   "metadata": {},
   "source": [
    "## Notes\n",
    "- Decidable problem will always give you an answer no matter what\n",
    "- Undecidable problem either has multiple answers or cannot get to an answer in a resaonable time\n",
    "- Some problems cannot be solved by a computer "
   ]
  },
  {
   "attachments": {},
   "cell_type": "markdown",
   "metadata": {},
   "source": [
    "# Homework!\n",
    "\n",
    "Make an algorithm that finds the fastest route that hits every location once starting and ending at Del Norte. Make sure to show your thinking. If you are strugling, try using a huristic approach. Remember, what matters more than having perfectly functioning code is that you tried your hardest."
   ]
  },
  {
   "cell_type": "code",
   "execution_count": 54,
   "metadata": {},
   "outputs": [],
   "source": [
    "# RUN THIS CODE --- DO NOT EDIT\n",
    "dataset = {\n",
    "    'DelNorte':{\n",
    "        'Westview':15,\n",
    "        'MtCarmel':20,\n",
    "        'Poway':35,\n",
    "        'RanchoBernrdo':50\n",
    "    },\n",
    "    'Westview':{\n",
    "        'Del Norte':15,\n",
    "        'MtCarmel':35,\n",
    "        'Poway':25,\n",
    "        'RanchoBernrdo': 45\n",
    "    },\n",
    "    'MtCarmel':{\n",
    "        'Westview':35,\n",
    "        'Del Norte':20,\n",
    "        'Poway':40,\n",
    "        'RanchoBernardo':30\n",
    "    },\n",
    "    'Poway':{\n",
    "        'Westview':25,\n",
    "        'MtCarmel':40,\n",
    "        'Del Norte':35,\n",
    "        'RanchoBernrdo':15\n",
    "    },\n",
    "    'RanchoBernardo':{\n",
    "        'Westview':45,\n",
    "        'MtCarmel':30,\n",
    "        'Poway':15,\n",
    "        'Del Norte':50\n",
    "    }\n",
    "}"
   ]
  },
  {
   "cell_type": "code",
   "execution_count": null,
   "metadata": {},
   "outputs": [],
   "source": [
    "def fastestroute(start,data):\n",
    "    drivetime = 0\n",
    "    order = []\n",
    "    #CODE,CODE,CODE\n",
    "    drivetime = dataset[RanchoBernardo[Westview]]\n",
    "    return(drivetime,order)\n",
    "\n",
    "start = 'DelNorte'\n",
    "# 'dataset' is the name of the nested key value pair"
   ]
  },
  {
   "attachments": {},
   "cell_type": "markdown",
   "metadata": {},
   "source": [
    "### Grading:\n",
    "|Challenge|Homework|\n",
    "|---|---|\n",
    "|.15 pts for attempt|.65 for attempt|\n",
    "|.20 pts for complete|.70 for complete|\n",
    "|.25 pts for above and beyond|.75 pts for above and beyond|\n"
   ]
  }
 ],
 "metadata": {
  "kernelspec": {
   "display_name": "Python 3",
   "language": "python",
   "name": "python3"
  },
  "language_info": {
   "codemirror_mode": {
    "name": "ipython",
    "version": 3
   },
   "file_extension": ".py",
   "mimetype": "text/x-python",
   "name": "python",
   "nbconvert_exporter": "python",
   "pygments_lexer": "ipython3",
   "version": "3.10.6 (main, Aug 10 2022, 11:40:04) [GCC 11.3.0]"
  },
  "orig_nbformat": 4,
  "vscode": {
   "interpreter": {
    "hash": "916dbcbb3f70747c44a77c7bcd40155683ae19c65e1c03b4aa3499c5328201f1"
   }
  }
 },
 "nbformat": 4,
 "nbformat_minor": 2
}
