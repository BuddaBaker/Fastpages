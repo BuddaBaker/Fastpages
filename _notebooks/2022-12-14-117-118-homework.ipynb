{
 "cells": [
  {
   "attachments": {},
   "cell_type": "markdown",
   "metadata": {},
   "source": [
    "# 3.17 - 3.18\n",
    "- title: Homework 3.17 - 3.18\n",
    "- permalink: /homework1718"
   ]
  },
  {
   "attachments": {},
   "cell_type": "markdown",
   "metadata": {},
   "source": [
    "# 3.17 Algorithmic Efficiency"
   ]
  },
  {
   "attachments": {},
   "cell_type": "markdown",
   "metadata": {},
   "source": [
    "## Vocabulary\n",
    "- Problem: general description of a task that can or cannot be solved algorithmically\n",
    "    - Decision Problem: problem with yes or no example\n",
    "    - Organization Problem:problem with a goal of finding the best answer\n",
    "- Instance: problem with a specific input\n",
    "- Efficiency: amount of computing needed to solve a problem\n",
    "    - Polynomial Efficiency (Good): Work is proportional to time\n",
    "    - Exponential Efficiency (Bad): Work is not proportial to time (2:1)\n",
    "- Heuristic Approach: When optimal solutions are inefficient, look for possibly best solution\n",
    "- Decidable Problem: Problem with a specific input that will give a certain output\n",
    "- Undecidable Problem: Problem that cannot be solved and can't give an output\n"
   ]
  },
  {
   "attachments": {},
   "cell_type": "markdown",
   "metadata": {},
   "source": [
    "## Notes\n",
    "- an instance is a problem with a specific input\n",
    "- Computing is the total amount of time required to solve an entire problem\n",
    "- Polynomial Efficiency- Everytime you go through the list it would get longer, the time to code ratio is 1:1\n",
    "- Decidable problem: Problem with a specific input that will give a certain output\n",
    "- Undecidable problem: Problem that cannot be solved and can't give an output\n",
    "- The goal of all code is to be the most efficient and solve a problem in least amount of time needed\n",
    "- More cycles of a code means it will take a longer time to run it all\n",
    "- Hueristic approach sacrifices optimal solution in order to achieve efficiency\n"
   ]
  },
  {
   "attachments": {},
   "cell_type": "markdown",
   "metadata": {},
   "source": [
    "## Challenge\n",
    "Try and fix this ineficcient code!\n",
    "Only change the code between the two commented lines.\n",
    "Fully programmed solution will improve your grade, at a minimum show that you tried."
   ]
  },
  {
   "cell_type": "code",
   "execution_count": 2,
   "metadata": {},
   "outputs": [
    {
     "name": "stdout",
     "output_type": "stream",
     "text": [
      "0.16485977172851562 seconds\n"
     ]
    }
   ],
   "source": [
    "import time\n",
    "numlist = set([1,3,5,7,9,11,13,15,17,19])\n",
    "valuelist = set([0,3,6,9,12,15,18,21])\n",
    "\n",
    "def isvalue(value, array):\n",
    "    return value in array\n",
    "\n",
    "starttime = time.time()\n",
    "for i in range(100000):\n",
    "    for i in valueset:\n",
    "        x = isvalue(i, numset)\n",
    "endtime = time.time()\n",
    "print(endtime-starttime, 'seconds')\n"
   ]
  },
  {
   "attachments": {},
   "cell_type": "markdown",
   "metadata": {},
   "source": [
    "# 3.18 Undecidable Problems"
   ]
  },
  {
   "attachments": {},
   "cell_type": "markdown",
   "metadata": {},
   "source": [
    "## Notes\n",
    "- Decidable problem will always give you an answer no matter what\n",
    "- Undecidable problem either has multiple answers or cannot get to an answer in a resaonable time\n",
    "- Some problems cannot be solved by a computer "
   ]
  },
  {
   "attachments": {},
   "cell_type": "markdown",
   "metadata": {},
   "source": [
    "# Homework!\n",
    "\n",
    "Make an algorithm that finds the fastest route that hits every location once starting and ending at Del Norte. Make sure to show your thinking. If you are strugling, try using a huristic approach. Remember, what matters more than having perfectly functioning code is that you tried your hardest."
   ]
  },
  {
   "cell_type": "code",
   "execution_count": 14,
   "metadata": {},
   "outputs": [],
   "source": [
    "dataset = {\n",
    "    'Del Norte':{\n",
    "        'Westview':15,\n",
    "        'MtCarmel':20,\n",
    "        'Poway':35,\n",
    "        'RanchoBernardo':50\n",
    "    },\n",
    "    'Westview':{\n",
    "        'Del Norte':15,\n",
    "        'MtCarmel':35,\n",
    "        'Poway':25,\n",
    "        'RanchoBernardo': 45\n",
    "    },\n",
    "    'MtCarmel':{\n",
    "        'Westview':35,\n",
    "        'Del Norte':20,\n",
    "        'Poway':40,\n",
    "        'RanchoBernardo':30\n",
    "    },\n",
    "    'Poway':{\n",
    "        'Westview':25,\n",
    "        'MtCarmel':40,\n",
    "        'Del Norte':35,\n",
    "        'RanchoBernardo':15\n",
    "    },\n",
    "    'RanchoBernardo':{\n",
    "        'Westview':45,\n",
    "        'MtCarmel':30,\n",
    "        'Poway':15,\n",
    "        'Del Norte':50\n",
    "    }\n",
    "}\n"
   ]
  },
  {
   "cell_type": "code",
   "execution_count": 16,
   "metadata": {},
   "outputs": [
    {
     "name": "stdout",
     "output_type": "stream",
     "text": [
      "The fastest route starting at Del Norte is ['Del Norte', 'Del Norte', 'Westview', 'Del Norte', 'MtCarmel', 'Del Norte', 'Poway', 'Del Norte', 'RanchoBernardo', 'Del Norte', 'Westview', 'MtCarmel', 'Del Norte', 'Westview', 'Poway', 'Del Norte', 'Westview', 'RanchoBernardo', 'Del Norte', 'MtCarmel', 'Poway', 'Del Norte', 'MtCarmel', 'RanchoBernardo', 'Del Norte', 'Poway', 'RanchoBernardo'] with a total distance of 50.\n"
     ]
    }
   ],
   "source": [
    "from collections import deque\n",
    "\n",
    "def find_fastest_route(dataset, start):\n",
    "  # Create a queue to store the locations to visit and the path from the start location to each location\n",
    "  queue = deque([(start, [start])])\n",
    "  # Create a set to store the visited locations\n",
    "  visited = set()\n",
    "  # Create a list to store the paths for each location\n",
    "  paths = []\n",
    "  \n",
    "  while queue:\n",
    "    # Get the next location in the queue\n",
    "    location, path = queue.popleft()\n",
    "    # Mark the location as visited\n",
    "    visited.add(location)\n",
    "    # Add the path for the current location to the list of paths\n",
    "    paths.append(path)\n",
    "    # Add all the unvisited locations reachable from the current location to the queue, along with the updated path\n",
    "    for neighbor in dataset[location]:\n",
    "      if neighbor not in visited:\n",
    "        queue.append((neighbor, path + [neighbor]))\n",
    "  \n",
    "  # Reconstruct the full route by concatenating the paths for each location\n",
    "  full_route = [path for path_list in paths for path in path_list]\n",
    "  \n",
    "  # Calculate the total distance of the route\n",
    "  total_distance = sum(dataset[path[i]][path[i+1]] for i in range(len(path) - 1))\n",
    "  \n",
    "  return full_route, total_distance\n",
    "\n",
    "# Test the function\n",
    "start = 'Del Norte'\n",
    "fastest_route, total_distance = find_fastest_route(dataset, start)\n",
    "print(f'The fastest route starting at {start} is {fastest_route} with a total distance of {total_distance}.')\n"
   ]
  },
  {
   "attachments": {},
   "cell_type": "markdown",
   "metadata": {},
   "source": [
    "### Grading:\n",
    "|Challenge|Homework|\n",
    "|---|---|\n",
    "|.15 pts for attempt|.65 for attempt|\n",
    "|.20 pts for complete|.70 for complete|\n",
    "|.25 pts for above and beyond|.75 pts for above and beyond|\n"
   ]
  }
 ],
 "metadata": {
  "kernelspec": {
   "display_name": "Python 3",
   "language": "python",
   "name": "python3"
  },
  "language_info": {
   "codemirror_mode": {
    "name": "ipython",
    "version": 3
   },
   "file_extension": ".py",
   "mimetype": "text/x-python",
   "name": "python",
   "nbconvert_exporter": "python",
   "pygments_lexer": "ipython3",
   "version": "3.10.6"
  },
  "orig_nbformat": 4,
  "vscode": {
   "interpreter": {
    "hash": "916dbcbb3f70747c44a77c7bcd40155683ae19c65e1c03b4aa3499c5328201f1"
   }
  }
 },
 "nbformat": 4,
 "nbformat_minor": 2
}
