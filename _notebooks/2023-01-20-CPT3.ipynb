{
 "cells": [
  {
   "attachments": {},
   "cell_type": "markdown",
   "metadata": {},
   "source": [
    "# CPT 3 Grading\n",
    "> CPT 3 Grading\n",
    "\n",
    "- toc: true\n",
    "- comments: true"
   ]
  },
  {
   "attachments": {},
   "cell_type": "markdown",
   "metadata": {},
   "source": [
    "## 7th project\n",
    "|Reporting Category  |Student Score |Collegeboard Score|Comments|\n",
    "|------|-----|------|-----|\n",
    "|Program Purpose and Function|1|1|The programs purpose of rock paper scissors game is very specific and the output is clear and easy to understan because the output will either be Win, Lose or Draw|\n",
    "|Data Abstraction|0|0|All of the criteria isn't met here, the list RPS has a variable it is associated with however the list being used to fullfill the projects purpose isnt present|\n",
    "|Managing Complexity|0|0|The lists function is defined however there is nothing that says what will happen if the list isn't used in the program|\n",
    "|Procedural Abstraction|0|0|The functions overall use relative to the program isn't defined the other elements of the function rpsGame() are meeting the criteria. |\n",
    "|Algorithm Implimentation|1|1|Sequencing, iteration and selection are clearly used here and the input from the user has a clearly defined output.|\n",
    "|Testing|1|1|The conditions of each call and the output of all the calls is clearly defined along with the expect result. |\n",
    "\n",
    "Total: 3/6"
   ]
  },
  {
   "attachments": {},
   "cell_type": "markdown",
   "metadata": {},
   "source": [
    "# Reflection\n",
    "The results and grading corresponded with mine. As there are more projects I am able to understand the criteria that collegeboard expects better and I am able to correctly judge whether or not something is deserving of points. Overall this CPT project has some good elements but the list and code is where they missed many points because of how incomplete it was and how they forget to mention certain neccessary parts. "
   ]
  },
  {
   "attachments": {},
   "cell_type": "markdown",
   "metadata": {},
   "source": [
    "## 8th project\n",
    "|Reporting Category  |Student Score |Collegeboard Score|Comments|\n",
    "|------|-----|------|-----|\n",
    "|Program Purpose and Function|1|1|The purpose of the program of a word game is clearly stated and the output which will be what happens in the game is clearly defined. |\n",
    "|Data Abstraction|0|1|The list is named however it is not stated what is being stored in the list|\n",
    "|Managing Complexity|1|1|The list is clearly serving a function purpose in the code block and why the list is needed for the program to be working correctly|\n",
    "|Procedural Abstraction|1|1|The procedures use is defined, and it states that its used for to compare the random word to the letters input by the user |\n",
    "|Algorithm Implimentation|1|1|The algorithm explanation has great depth to it, defining every step so it can be recreated |\n",
    "|Testing|1|1|The calls are labeled with the output so it is in a place where it can be clearly found and compared. |\n",
    "\n",
    "Total: 5/6"
   ]
  },
  {
   "attachments": {},
   "cell_type": "markdown",
   "metadata": {},
   "source": [
    "# Reflection\n",
    "There was only one discrepancy between the score I gave to the project and the score that College Board gave it to. It came from the data abstraction portion where I thought the list wasn't being stored correctly. Collegeboard believed that it was being stored correctly. "
   ]
  },
  {
   "attachments": {},
   "cell_type": "markdown",
   "metadata": {},
   "source": [
    "## 9th project\n",
    "|Reporting Category  |Student Score |Collegeboard Score|Comments|\n",
    "|------|-----|------|-----|\n",
    "|Program Purpose and Function|1|1|The purpose of the program is to give information about a state in the United States. This is a good amount of explanation to the programs purpose which is why it should recieve points.  |\n",
    "|Data Abstraction|0|0|The name of the list is stated but there is no list present and no purpose to the list stated|\n",
    "|Managing Complexity|0|0|The lists relation to the programs purpose isn't defined and is very unclear based on the explanation given in the written response|\n",
    "|Procedural Abstraction|0|0|The programs downfall without the list is clearly stated, where it says the program would be incredibly inefficient and very difficult however the code segment with the procedure isn't placed in the written response.  |\n",
    "|Algorithm Implimentation|0|0|The algorithm is very inefficient because it manually goes through every single state, this is why it doesn't earn the points for this portion |\n",
    "|Testing|1|0|The calls are clearly defined with the neccessary output needed. All the calls are stated along with what could influence them. |\n",
    "\n",
    "Total: 2/6"
   ]
  },
  {
   "attachments": {},
   "cell_type": "markdown",
   "metadata": {},
   "source": [
    "# Reflection\n",
    "My results were very similiar to collegeboard however the only difference between them is Testing. I gave the points to the Testing portion because it had all the calls that were needed to gain the points however, Collegeboard believes that the Testing doesn't fit the criteria needed to gain the points. "
   ]
  },
  {
   "attachments": {},
   "cell_type": "markdown",
   "metadata": {},
   "source": [
    "## 10th project\n",
    "|Reporting Category  |Student Score |Collegeboard Score|Comments|\n",
    "|------|-----|------|-----|\n",
    "|Program Purpose and Function|1|1|The purpose of the program of simulating a time fish game is stated and can be found  |\n",
    "|Data Abstraction|1|1|The list of \"fishtype\" is shown how the data is being stored and what types of data is stored in the list |\n",
    "|Managing Complexity|1|1|Without the list there would need to be multiple variables storing lots of data which makes the code very difficult to follow|\n",
    "|Procedural Abstraction|1|1|The procedure of close movement is fitting the criteria of receving points because it has a major function with impacts the functionality of the code.  |\n",
    "|Algorithm Implimentation|1|1|The algorithm correctly has the procedure and it can be fully recreated by anyone because of the depth of the explanation.|\n",
    "|Testing|0|0|The calls are clearly defined but there is no mention of what could happen wrong with the program in the writeup. |\n",
    "\n",
    "Total: 5/6"
   ]
  },
  {
   "attachments": {},
   "cell_type": "markdown",
   "metadata": {},
   "source": [
    "# Reflection\n",
    "My scoring is the same as the college board scoring. This submission was easy to see how it worked and easy to score because of the simplicity it had. My grading overall is improving because I can now correctly grade the entire project which is something that I have definetly improved upon. "
   ]
  }
 ],
 "metadata": {
  "kernelspec": {
   "display_name": "Python 3",
   "language": "python",
   "name": "python3"
  },
  "language_info": {
   "name": "python",
   "version": "3.10.6 (main, Aug 10 2022, 11:40:04) [GCC 11.3.0]"
  },
  "orig_nbformat": 4,
  "vscode": {
   "interpreter": {
    "hash": "916dbcbb3f70747c44a77c7bcd40155683ae19c65e1c03b4aa3499c5328201f1"
   }
  }
 },
 "nbformat": 4,
 "nbformat_minor": 2
}
