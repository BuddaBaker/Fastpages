{
 "cells": [
  {
   "cell_type": "markdown",
   "metadata": {},
   "source": [
    "# Collaboration Notes\n",
    "> Collaboration Notes\n",
    "\n",
    "- toc: true \n",
    "- badges: true\n",
    "- comments: true\n",
    "- categories: [Posts]\n",
    "- title: Collaboration Notes"
   ]
  },
  {
   "cell_type": "markdown",
   "metadata": {},
   "source": [
    "Notes from Collobaration:\n",
    "- Collaboration reflects the talents of the people who designed it\n",
    "- Innovations can be physical or non-physical\n",
    "- Consensus building makes everyone feel as if they have a voice in the decision\n",
    "- Think pair share is an example of collaboration in a class\n"
   ]
  }
 ],
 "metadata": {
  "language_info": {
   "name": "python"
  },
  "orig_nbformat": 4
 },
 "nbformat": 4,
 "nbformat_minor": 2
}
