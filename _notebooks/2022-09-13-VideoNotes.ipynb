{
 "cells": [
  {
   "cell_type": "markdown",
   "metadata": {},
   "source": [
    "# Collaboration Notes\n",
    "> Collaboration Notes\n",
    "\n",
    "- toc: true \n",
    "- badges: true\n",
    "- comments: true\n",
    "- categories: [Posts]\n",
    "- title: Collaboration Notes"
   ]
  },
  {
   "cell_type": "markdown",
   "metadata": {},
   "source": [
    "Notes from Collobaration:\n",
    "- Collaboration reflects the talents of the people who designed it\n",
    "- Innovations can be physical or non-physical\n",
    "- Consensus building makes everyone feel as if they have a voice in the decision\n",
    "- Think pair share is an example of collaboration in a class\n"
   ]
  }
 ],
 "metadata": {
  "kernelspec": {
   "display_name": "Python 3.9.12 ('base')",
   "language": "python",
   "name": "python3"
  },
  "language_info": {
   "name": "python",
   "version": "3.9.12"
  },
  "orig_nbformat": 4,
  "vscode": {
   "interpreter": {
    "hash": "eb0c6f2cfc33f72ce3c0f4d4daeda7f779d16a1228752f49211f3596bf51e2a4"
   }
  }
 },
 "nbformat": 4,
 "nbformat_minor": 2
}
