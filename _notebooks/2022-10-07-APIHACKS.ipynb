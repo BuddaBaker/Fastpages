{
 "cells": [
  {
   "cell_type": "code",
   "execution_count": null,
   "metadata": {},
   "outputs": [],
   "source": []
  },
  {
   "cell_type": "code",
   "execution_count": 1,
   "metadata": {},
   "outputs": [
    {
     "name": "stdout",
     "output_type": "stream",
     "text": [
      "{\"message\":\"NFL Scheduled games\",\"data\":[{\"date\":\"2022-10-07T00:15Z\",\"venue\":\"Empower Field at Mile High\",\"name\":\"Indianapolis Colts at Denver Broncos\",\"shortName\":\"IND @ DEN\",\"awayTeam\":{\"name\":\"Colts\",\"score\":\"12\"},\"homeTeam\":{\"name\":\"Broncos\",\"score\":\"9\"}},{\"date\":\"2022-10-09T13:30Z\",\"venue\":\"Tottenham Hotspur Stadium\",\"name\":\"New York Giants at Green Bay Packers\",\"shortName\":\"NYG @ GB\",\"awayTeam\":{\"name\":\"Giants\",\"score\":\"0\"},\"homeTeam\":{\"name\":\"Packers\",\"score\":\"0\"}},{\"date\":\"2022-10-09T17:00Z\",\"venue\":\"Highmark Stadium\",\"name\":\"Pittsburgh Steelers at Buffalo Bills\",\"shortName\":\"PIT @ BUF\",\"awayTeam\":{\"name\":\"Steelers\",\"score\":\"0\"},\"homeTeam\":{\"name\":\"Bills\",\"score\":\"0\"}},{\"date\":\"2022-10-09T17:00Z\",\"venue\":\"FirstEnergy Stadium\",\"name\":\"Los Angeles Chargers at Cleveland Browns\",\"shortName\":\"LAC @ CLE\",\"awayTeam\":{\"name\":\"Chargers\",\"score\":\"0\"},\"homeTeam\":{\"name\":\"Browns\",\"score\":\"0\"}},{\"date\":\"2022-10-09T17:00Z\",\"venue\":\"U.S. Bank Stadium\",\"name\":\"Chicago Bears at Minnesota Vikings\",\"shortName\":\"CHI @ MIN\",\"awayTeam\":{\"name\":\"Bears\",\"score\":\"0\"},\"homeTeam\":{\"name\":\"Vikings\",\"score\":\"0\"}},{\"date\":\"2022-10-09T17:00Z\",\"venue\":\"Gillette Stadium\",\"name\":\"Detroit Lions at New England Patriots\",\"shortName\":\"DET @ NE\",\"awayTeam\":{\"name\":\"Lions\",\"score\":\"0\"},\"homeTeam\":{\"name\":\"Patriots\",\"score\":\"0\"}},{\"date\":\"2022-10-09T17:00Z\",\"venue\":\"Caesars Superdome\",\"name\":\"Seattle Seahawks at New Orleans Saints\",\"shortName\":\"SEA @ NO\",\"awayTeam\":{\"name\":\"Seahawks\",\"score\":\"0\"},\"homeTeam\":{\"name\":\"Saints\",\"score\":\"0\"}},{\"date\":\"2022-10-09T17:00Z\",\"venue\":\"MetLife Stadium\",\"name\":\"Miami Dolphins at New York Jets\",\"shortName\":\"MIA @ NYJ\",\"awayTeam\":{\"name\":\"Dolphins\",\"score\":\"0\"},\"homeTeam\":{\"name\":\"Jets\",\"score\":\"0\"}},{\"date\":\"2022-10-09T17:00Z\",\"venue\":\"Raymond James Stadium\",\"name\":\"Atlanta Falcons at Tampa Bay Buccaneers\",\"shortName\":\"ATL @ TB\",\"awayTeam\":{\"name\":\"Falcons\",\"score\":\"0\"},\"homeTeam\":{\"name\":\"Buccaneers\",\"score\":\"0\"}},{\"date\":\"2022-10-09T17:00Z\",\"venue\":\"FedExField\",\"name\":\"Tennessee Titans at Washington Commanders\",\"shortName\":\"TEN @ WSH\",\"awayTeam\":{\"name\":\"Titans\",\"score\":\"0\"},\"homeTeam\":{\"name\":\"Commanders\",\"score\":\"0\"}},{\"date\":\"2022-10-09T17:00Z\",\"venue\":\"TIAA Bank Field\",\"name\":\"Houston Texans at Jacksonville Jaguars\",\"shortName\":\"HOU @ JAX\",\"awayTeam\":{\"name\":\"Texans\",\"score\":\"0\"},\"homeTeam\":{\"name\":\"Jaguars\",\"score\":\"0\"}},{\"date\":\"2022-10-09T20:05Z\",\"venue\":\"Bank of America Stadium\",\"name\":\"San Francisco 49ers at Carolina Panthers\",\"shortName\":\"SF @ CAR\",\"awayTeam\":{\"name\":\"49ers\",\"score\":\"0\"},\"homeTeam\":{\"name\":\"Panthers\",\"score\":\"0\"}},{\"date\":\"2022-10-09T20:25Z\",\"venue\":\"SoFi Stadium\",\"name\":\"Dallas Cowboys at Los Angeles Rams\",\"shortName\":\"DAL @ LAR\",\"awayTeam\":{\"name\":\"Cowboys\",\"score\":\"0\"},\"homeTeam\":{\"name\":\"Rams\",\"score\":\"0\"}},{\"date\":\"2022-10-09T20:25Z\",\"venue\":\"State Farm Stadium\",\"name\":\"Philadelphia Eagles at Arizona Cardinals\",\"shortName\":\"PHI @ ARI\",\"awayTeam\":{\"name\":\"Eagles\",\"score\":\"0\"},\"homeTeam\":{\"name\":\"Cardinals\",\"score\":\"0\"}},{\"date\":\"2022-10-10T00:20Z\",\"venue\":\"M&T Bank Stadium\",\"name\":\"Cincinnati Bengals at Baltimore Ravens\",\"shortName\":\"CIN @ BAL\",\"awayTeam\":{\"name\":\"Bengals\",\"score\":\"0\"},\"homeTeam\":{\"name\":\"Ravens\",\"score\":\"0\"}},{\"date\":\"2022-10-11T00:15Z\",\"venue\":\"GEHA Field at Arrowhead Stadium\",\"name\":\"Las Vegas Raiders at Kansas City Chiefs\",\"shortName\":\"LV @ KC\",\"awayTeam\":{\"name\":\"Raiders\",\"score\":\"0\"},\"homeTeam\":{\"name\":\"Chiefs\",\"score\":\"0\"}}]}\n"
     ]
    }
   ],
   "source": [
    "\"\"\"\n",
    "Requests is a HTTP library for the Python programming language. \n",
    "The goal of the project is to make HTTP requests simpler and more human-friendly. \n",
    "\"\"\"\n",
    "\n",
    "\"\"\"\n",
    "RapidAPI is the world's largest API Marketplace. \n",
    "Developers use Rapid API to discover and connect to thousands of APIs. \n",
    "\"\"\"\n",
    "\n",
    "import requests\n",
    "\n",
    "url = \"https://nfl-schedule.p.rapidapi.com/v1/schedules\"\n",
    "\n",
    "headers = {\n",
    "\t\"X-RapidAPI-Key\": \"71d411b83cmshb7b1cee17c5afa3p1c914ejsnde8d0527c7ad\",\n",
    "\t\"X-RapidAPI-Host\": \"nfl-schedule.p.rapidapi.com\"\n",
    "}\n",
    "\n",
    "response = requests.request(\"GET\", url, headers=headers)\n",
    "\n",
    "\n",
    "print(response.text)\n",
    "# print(response.text)  # uncomment this line to see raw dat\n"
   ]
  }
 ],
 "metadata": {
  "kernelspec": {
   "display_name": "Python 3.9.12 ('base')",
   "language": "python",
   "name": "python3"
  },
  "language_info": {
   "codemirror_mode": {
    "name": "ipython",
    "version": 3
   },
   "file_extension": ".py",
   "mimetype": "text/x-python",
   "name": "python",
   "nbconvert_exporter": "python",
   "pygments_lexer": "ipython3",
   "version": "3.9.12"
  },
  "orig_nbformat": 4,
  "vscode": {
   "interpreter": {
    "hash": "eb0c6f2cfc33f72ce3c0f4d4daeda7f779d16a1228752f49211f3596bf51e2a4"
   }
  }
 },
 "nbformat": 4,
 "nbformat_minor": 2
}
