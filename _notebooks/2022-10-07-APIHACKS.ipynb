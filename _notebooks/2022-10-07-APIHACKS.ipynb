{
 "cells": [
  {
   "cell_type": "markdown",
   "metadata": {},
   "source": [
    "# API\n",
    "> API\n",
    "\n",
    "- toc: true \n",
    "- badges: true\n",
    "- comments: true\n",
    "- categories: [Posts]\n",
    "- title: API"
   ]
  },
  {
   "cell_type": "code",
   "execution_count": 1,
   "metadata": {},
   "outputs": [
    {
     "name": "stdout",
     "output_type": "stream",
     "text": [
      "{'message': 'NFL Scheduled games', 'data': [{'date': '2022-11-24T17:30Z', 'venue': 'Ford Field', 'name': 'Buffalo Bills at Detroit Lions', 'shortName': 'BUF @ DET', 'awayTeam': {'name': 'Bills', 'score': '0'}, 'homeTeam': {'name': 'Lions', 'score': '0'}}, {'date': '2022-11-24T21:30Z', 'venue': 'AT&T Stadium', 'name': 'New York Giants at Dallas Cowboys', 'shortName': 'NYG @ DAL', 'awayTeam': {'name': 'Giants', 'score': '0'}, 'homeTeam': {'name': 'Cowboys', 'score': '0'}}, {'date': '2022-11-25T01:20Z', 'venue': 'U.S. Bank Stadium', 'name': 'New England Patriots at Minnesota Vikings', 'shortName': 'NE @ MIN', 'awayTeam': {'name': 'Patriots', 'score': '0'}, 'homeTeam': {'name': 'Vikings', 'score': '0'}}, {'date': '2022-11-27T18:00Z', 'venue': 'FirstEnergy Stadium', 'name': 'Tampa Bay Buccaneers at Cleveland Browns', 'shortName': 'TB @ CLE', 'awayTeam': {'name': 'Buccaneers', 'score': '0'}, 'homeTeam': {'name': 'Browns', 'score': '0'}}, {'date': '2022-11-27T18:00Z', 'venue': 'Nissan Stadium', 'name': 'Cincinnati Bengals at Tennessee Titans', 'shortName': 'CIN @ TEN', 'awayTeam': {'name': 'Bengals', 'score': '0'}, 'homeTeam': {'name': 'Titans', 'score': '0'}}, {'date': '2022-11-27T18:00Z', 'venue': 'Hard Rock Stadium', 'name': 'Houston Texans at Miami Dolphins', 'shortName': 'HOU @ MIA', 'awayTeam': {'name': 'Texans', 'score': '0'}, 'homeTeam': {'name': 'Dolphins', 'score': '0'}}, {'date': '2022-11-27T18:00Z', 'venue': 'MetLife Stadium', 'name': 'Chicago Bears at New York Jets', 'shortName': 'CHI @ NYJ', 'awayTeam': {'name': 'Bears', 'score': '0'}, 'homeTeam': {'name': 'Jets', 'score': '0'}}, {'date': '2022-11-27T18:00Z', 'venue': 'FedExField', 'name': 'Atlanta Falcons at Washington Commanders', 'shortName': 'ATL @ WSH', 'awayTeam': {'name': 'Falcons', 'score': '0'}, 'homeTeam': {'name': 'Commanders', 'score': '0'}}, {'date': '2022-11-27T18:00Z', 'venue': 'Bank of America Stadium', 'name': 'Denver Broncos at Carolina Panthers', 'shortName': 'DEN @ CAR', 'awayTeam': {'name': 'Broncos', 'score': '0'}, 'homeTeam': {'name': 'Panthers', 'score': '0'}}, {'date': '2022-11-27T18:00Z', 'venue': 'TIAA Bank Field', 'name': 'Baltimore Ravens at Jacksonville Jaguars', 'shortName': 'BAL @ JAX', 'awayTeam': {'name': 'Ravens', 'score': '0'}, 'homeTeam': {'name': 'Jaguars', 'score': '0'}}, {'date': '2022-11-27T21:05Z', 'venue': 'State Farm Stadium', 'name': 'Los Angeles Chargers at Arizona Cardinals', 'shortName': 'LAC @ ARI', 'awayTeam': {'name': 'Chargers', 'score': '0'}, 'homeTeam': {'name': 'Cardinals', 'score': '0'}}, {'date': '2022-11-27T21:05Z', 'venue': 'Lumen Field', 'name': 'Las Vegas Raiders at Seattle Seahawks', 'shortName': 'LV @ SEA', 'awayTeam': {'name': 'Raiders', 'score': '0'}, 'homeTeam': {'name': 'Seahawks', 'score': '0'}}, {'date': '2022-11-27T21:25Z', 'venue': 'GEHA Field at Arrowhead Stadium', 'name': 'Los Angeles Rams at Kansas City Chiefs', 'shortName': 'LAR @ KC', 'awayTeam': {'name': 'Rams', 'score': '0'}, 'homeTeam': {'name': 'Chiefs', 'score': '0'}}, {'date': '2022-11-27T21:25Z', 'venue': \"Levi's Stadium\", 'name': 'New Orleans Saints at San Francisco 49ers', 'shortName': 'NO @ SF', 'awayTeam': {'name': 'Saints', 'score': '0'}, 'homeTeam': {'name': '49ers', 'score': '0'}}, {'date': '2022-11-28T01:20Z', 'venue': 'Lincoln Financial Field', 'name': 'Green Bay Packers at Philadelphia Eagles', 'shortName': 'GB @ PHI', 'awayTeam': {'name': 'Packers', 'score': '0'}, 'homeTeam': {'name': 'Eagles', 'score': '0'}}, {'date': '2022-11-29T01:15Z', 'venue': 'Lucas Oil Stadium', 'name': 'Pittsburgh Steelers at Indianapolis Colts', 'shortName': 'PIT @ IND', 'awayTeam': {'name': 'Steelers', 'score': '0'}, 'homeTeam': {'name': 'Colts', 'score': '0'}}]}\n",
      "Buffalo Bills at Detroit Lions\n",
      "\n",
      "New York Giants at Dallas Cowboys\n",
      "\n",
      "New England Patriots at Minnesota Vikings\n",
      "\n",
      "Tampa Bay Buccaneers at Cleveland Browns\n",
      "\n",
      "Cincinnati Bengals at Tennessee Titans\n",
      "\n",
      "Houston Texans at Miami Dolphins\n",
      "\n",
      "Chicago Bears at New York Jets\n",
      "\n",
      "Atlanta Falcons at Washington Commanders\n",
      "\n",
      "Denver Broncos at Carolina Panthers\n",
      "\n",
      "Baltimore Ravens at Jacksonville Jaguars\n",
      "\n",
      "Los Angeles Chargers at Arizona Cardinals\n",
      "\n",
      "Las Vegas Raiders at Seattle Seahawks\n",
      "\n",
      "Los Angeles Rams at Kansas City Chiefs\n",
      "\n",
      "New Orleans Saints at San Francisco 49ers\n",
      "\n",
      "Green Bay Packers at Philadelphia Eagles\n",
      "\n",
      "Pittsburgh Steelers at Indianapolis Colts\n",
      "\n"
     ]
    }
   ],
   "source": [
    "\"\"\"\n",
    "Requests is a HTTP library for the Python programming language. \n",
    "The goal of the project is to make HTTP requests simpler and more human-friendly. \n",
    "\"\"\"\n",
    "\n",
    "\"\"\"\n",
    "RapidAPI is the world's largest API Marketplace. \n",
    "Developers use Rapid API to discover and connect to thousands of APIs. \n",
    "\"\"\"\n",
    "\n",
    "import requests\n",
    "\n",
    "url = \"https://nfl-schedule.p.rapidapi.com/v1/schedules\"\n",
    "\n",
    "headers = {\n",
    "\t\"X-RapidAPI-Key\": \"71d411b83cmshb7b1cee17c5afa3p1c914ejsnde8d0527c7ad\",\n",
    "\t\"X-RapidAPI-Host\": \"nfl-schedule.p.rapidapi.com\"\n",
    "}\n",
    "\n",
    "response = requests.request(\"GET\", url, headers=headers)\n",
    "\n",
    "\n",
    "print(response.json())\n",
    "\n",
    "for schedule in response.json().get('data'):\n",
    "    print(schedule['name'])\n",
    "    print()"
   ]
  }
 ],
 "metadata": {
  "kernelspec": {
   "display_name": "Python 3.10.6 64-bit",
   "language": "python",
   "name": "python3"
  },
  "language_info": {
   "codemirror_mode": {
    "name": "ipython",
    "version": 3
   },
   "file_extension": ".py",
   "mimetype": "text/x-python",
   "name": "python",
   "nbconvert_exporter": "python",
   "pygments_lexer": "ipython3",
   "version": "3.10.6"
  },
  "orig_nbformat": 4,
  "vscode": {
   "interpreter": {
    "hash": "916dbcbb3f70747c44a77c7bcd40155683ae19c65e1c03b4aa3499c5328201f1"
   }
  }
 },
 "nbformat": 4,
 "nbformat_minor": 2
}
