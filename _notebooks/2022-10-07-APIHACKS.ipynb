{
 "cells": [
  {
   "cell_type": "code",
   "execution_count": null,
   "metadata": {},
   "outputs": [],
   "source": []
  },
  {
   "cell_type": "code",
   "execution_count": 26,
   "metadata": {},
   "outputs": [
    {
     "name": "stdout",
     "output_type": "stream",
     "text": [
      "Indianapolis Colts at Denver Broncos\n",
      "\n",
      "New York Giants at Green Bay Packers\n",
      "\n",
      "Pittsburgh Steelers at Buffalo Bills\n",
      "\n",
      "Los Angeles Chargers at Cleveland Browns\n",
      "\n",
      "Chicago Bears at Minnesota Vikings\n",
      "\n",
      "Detroit Lions at New England Patriots\n",
      "\n",
      "Seattle Seahawks at New Orleans Saints\n",
      "\n",
      "Miami Dolphins at New York Jets\n",
      "\n",
      "Atlanta Falcons at Tampa Bay Buccaneers\n",
      "\n",
      "Tennessee Titans at Washington Commanders\n",
      "\n",
      "Houston Texans at Jacksonville Jaguars\n",
      "\n",
      "San Francisco 49ers at Carolina Panthers\n",
      "\n",
      "Dallas Cowboys at Los Angeles Rams\n",
      "\n",
      "Philadelphia Eagles at Arizona Cardinals\n",
      "\n",
      "Cincinnati Bengals at Baltimore Ravens\n",
      "\n",
      "Las Vegas Raiders at Kansas City Chiefs\n",
      "\n"
     ]
    }
   ],
   "source": [
    "\"\"\"\n",
    "Requests is a HTTP library for the Python programming language. \n",
    "The goal of the project is to make HTTP requests simpler and more human-friendly. \n",
    "\"\"\"\n",
    "\n",
    "\"\"\"\n",
    "RapidAPI is the world's largest API Marketplace. \n",
    "Developers use Rapid API to discover and connect to thousands of APIs. \n",
    "\"\"\"\n",
    "\n",
    "import requests\n",
    "\n",
    "url = \"https://nfl-schedule.p.rapidapi.com/v1/schedules\"\n",
    "\n",
    "headers = {\n",
    "\t\"X-RapidAPI-Key\": \"71d411b83cmshb7b1cee17c5afa3p1c914ejsnde8d0527c7ad\",\n",
    "\t\"X-RapidAPI-Host\": \"nfl-schedule.p.rapidapi.com\"\n",
    "}\n",
    "\n",
    "response = requests.request(\"GET\", url, headers=headers)\n",
    "\n",
    "\n",
    "#print(response.json())\n",
    "\n",
    "for schedule in response.json().get('data'):\n",
    "    print(schedule['name'])\n",
    "    print()"
   ]
  }
 ],
 "metadata": {
  "kernelspec": {
   "display_name": "Python 3.9.12 ('base')",
   "language": "python",
   "name": "python3"
  },
  "language_info": {
   "codemirror_mode": {
    "name": "ipython",
    "version": 3
   },
   "file_extension": ".py",
   "mimetype": "text/x-python",
   "name": "python",
   "nbconvert_exporter": "python",
   "pygments_lexer": "ipython3",
   "version": "3.9.12"
  },
  "orig_nbformat": 4,
  "vscode": {
   "interpreter": {
    "hash": "eb0c6f2cfc33f72ce3c0f4d4daeda7f779d16a1228752f49211f3596bf51e2a4"
   }
  }
 },
 "nbformat": 4,
 "nbformat_minor": 2
}
