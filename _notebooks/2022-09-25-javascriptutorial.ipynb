{
 "cells": [
  {
   "cell_type": "markdown",
   "metadata": {},
   "source": [
    "> Quick launch into Variables, Functions, Arrays, IJavaScript HTML, using Jupyter Notebooks\n",
    "\n",
    "- toc: true\n",
    "- comments: true\n",
    "- permalink: /2022/09/20/JavaScript.html\n",
    "- image: /images/javascript.png\n",
    "- categories: [techtalk]\n",
    "\n",
    "{% include nav_frontend.html %}"
   ]
  },
  {
   "cell_type": "code",
   "execution_count": null,
   "metadata": {},
   "outputs": [
    {
     "ename": "",
     "evalue": "",
     "output_type": "error",
     "traceback": [
      "\u001b[1;31mFailed to start the Kernel. \n",
      "\u001b[1;31mmodule.js:597\n",
      "\u001b[1;31m  return process.dlopen(module, path._makeLong(filename));\n",
      "\u001b[1;31m                 ^\n",
      "\u001b[1;31m\n",
      "\u001b[1;31mError: /home/prasithchilla/anaconda3/bin/../lib/libstdc++.so.6: version `GLIBCXX_3.4.29' not found (required by /home/prasithchilla/anaconda3/lib/node_modules/ijavascript/node_modules/zeromq/build/Release/zmq.node)\n",
      "\u001b[1;31m    at Error (native)\n",
      "\u001b[1;31m    at Object.Module._extensions..node (module.js:597:18)\n",
      "\u001b[1;31m    at Module.load (module.js:487:32)\n",
      "\u001b[1;31m    at tryModuleLoad (module.js:446:12)\n",
      "\u001b[1;31m    at Function.Module._load (module.js:438:3)\n",
      "\u001b[1;31m    at Module.require (module.js:497:17)\n",
      "\u001b[1;31m    at require (internal/module.js:20:19)\n",
      "\u001b[1;31m    at load (/home/prasithchilla/anaconda3/lib/node_modules/ijavascript/node_modules/node-gyp-build/index.js:22:10)\n",
      "\u001b[1;31m    at Object.<anonymous> (/home/prasithchilla/anaconda3/lib/node_modules/ijavascript/node_modules/zeromq/binding.js:1:105)\n",
      "\u001b[1;31m    at Module._compile (module.js:570:32). \n",
      "\u001b[1;31mView Jupyter <a href='command:jupyter.viewOutput'>log</a> for further details."
     ]
    }
   ],
   "source": [
    "function logItType(output) {\n",
    "    console.log(typeof output, \";\", output);\n",
    "}\n",
    "console.log(\"Looking at dynamic nature of types in JavaScript\")\n",
    "logItType(\"hello\"); // String\n",
    "logItType(2020);    // Number\n",
    "logItType([1, 2, 3]);  // Object is generic for this Array, which similar to Python List"
   ]
  }
 ],
 "metadata": {
  "kernelspec": {
   "display_name": "JavaScript (Node.js)",
   "language": "javascript",
   "name": "javascript"
  },
  "language_info": {
   "name": "javascript"
  },
  "orig_nbformat": 4
 },
 "nbformat": 4,
 "nbformat_minor": 2
}
