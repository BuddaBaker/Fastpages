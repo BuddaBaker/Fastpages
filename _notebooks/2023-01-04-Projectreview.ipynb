{
 "cells": [
  {
   "attachments": {},
   "cell_type": "markdown",
   "metadata": {},
   "source": [
    "## 1st project\n",
    "|Reporting Category  |Student Score |Collegeboard Score|Comments|\n",
    "|------|-----|------|-----|\n",
    "|Program Purpose and Function|1|0|The video and written response included the input,output and described all the purposes for the project.|\n",
    "|Data Abstraction|0|1|The data stored here is not majorly assisting and is it not clearly defined|\n",
    "|Managing Complexity|1|0|States how the list is neccessary in the code and how it manages the complexity of it|\n",
    "|Procedural Abstraction|0|1|The procedural elements are not present clearly in this project|\n",
    "|Algorithm Implimentation|1|1|The requirements for this section are met|\n",
    "|Testing|1|1|The calls are described and the code being ran is stated|\n",
    "\n",
    "Total: 4/6"
   ]
  },
  {
   "attachments": {},
   "cell_type": "markdown",
   "metadata": {},
   "source": [
    "## 2nd project\n",
    "|Reporting Category  |Student Score |Collegeboard Score|Comments|\n",
    "|------|-----|------|-----|\n",
    "|Program Purpose and Function|1|1|The purpose of the program is clearly stated|\n",
    "|Data Abstraction|1|1|The inputs are clearly stated and easy to find, meeting the criteria|\n",
    "|Managing Complexity|1|1|All lists used meet the criteria of the project. |\n",
    "|Procedural Abstraction|0|1|The procedure is not explained in relation to the program rather it talks about its use independently. |\n",
    "|Algorithm Implimentation|1|1|Sequences,selection,iteration are all present and stated in this example. |\n",
    "|Testing|1|1|The selected procedures are cleary stated and fit the criteria|\n",
    "\n",
    "Total: 5/6"
   ]
  }
 ],
 "metadata": {
  "language_info": {
   "name": "python"
  },
  "orig_nbformat": 4
 },
 "nbformat": 4,
 "nbformat_minor": 2
}
