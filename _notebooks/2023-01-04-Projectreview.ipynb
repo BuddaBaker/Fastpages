{
 "cells": [
  {
   "attachments": {},
   "cell_type": "markdown",
   "metadata": {},
   "source": [
    "## 1st project\n",
    "|Reporting Category  |Student Score |Collegeboard Score|Comments|\n",
    "|------|-----|------|-----|\n",
    "|Program Purpose and Function|1|0|The video and written response included the input,output and described all the purposes for the project.|\n",
    "|Data Abstraction|0|1|The data stored here is not majorly assisting and is it not clearly defined|\n",
    "|Managing Complexity|1|0|States how the list is neccessary in the code and how it manages the complexity of it|\n",
    "|Procedural Abstraction|0|1|The procedural elements are not present clearly in this project|\n",
    "|Algorithm Implimentation|1|1|The requirements for this section are met|\n",
    "|Testing|1|1|The calls are described and the code being ran is stated|\n",
    "\n",
    "Total: 4/6"
   ]
  },
  {
   "attachments": {},
   "cell_type": "markdown",
   "metadata": {},
   "source": [
    "## 3rd project\n",
    "|Reporting Category  |Student Score |Collegeboard Score|Comments|\n",
    "|------|-----|------|-----|\n",
    "|Program Purpose and Function|0|0|The purpose is not a very specific thing and leaves lot of room for misunderstanding|\n",
    "|Data Abstraction|0|0|The list is named however it is not stated what is being stored in the list|\n",
    "|Managing Complexity|1|0|All lists are stated clearly and meet the criteria |\n",
    "|Procedural Abstraction|0|0|The procedure is not explained in relation to the program rather it talks about its use independently. |\n",
    "|Algorithm Implimentation|1|0|Sequences,selection,iteration are all present and stated in this example. |\n",
    "|Testing|1|1|The calls are labeled with the output so it is in a place where it can be clearly found and compared. |\n",
    "\n",
    "Total: 3/6"
   ]
  },
  {
   "attachments": {},
   "cell_type": "markdown",
   "metadata": {},
   "source": [
    "## 4th project\n",
    "|Reporting Category  |Student Score |Collegeboard Score|Comments|\n",
    "|------|-----|------|-----|\n",
    "|Program Purpose and Function|1|1|The purpose of the program is stated clearly with great depth so I can know what is to be expected.|\n",
    "|Data Abstraction|1|1|The inputs are clearly stated and easy to find, meeting the criteria|\n",
    "|Managing Complexity|1|1|The lists contain multiple elements which fits the criteria|\n",
    "|Procedural Abstraction|1|1|The procedure is explained clearly and has multiple functionalities|\n",
    "|Algorithm Implimentation|1|1|Sequences,selection,iteration are all present and stated in this example. |\n",
    "|Testing|1|1|The calls are placed in a way where it is easy to check and to make sure that the testing output matches|\n",
    "Total:6/6"
   ]
  },
  {
   "attachments": {},
   "cell_type": "markdown",
   "metadata": {},
   "source": [
    "## 5th  project\n",
    "|Reporting Category  |Student Score |Collegeboard Score|Comments|\n",
    "|------|-----|------|-----|\n",
    "|Program Purpose and Function|0|0|The purpose of the program isn't clearly stated which means I can't tell what it will contain|\n",
    "|Data Abstraction|0|1|The data does not fit all the criteria that is required for credit|\n",
    "|Managing Complexity|1|1|The lists have multiple elements and are enough to get credit |\n",
    "|Procedural Abstraction|1|1|The procedure is explained and why it adds to the program |\n",
    "|Algorithm Implimentation|1|1|The neccessary elements are present here which means it will get credit |\n",
    "|Testing|1|1|The calls are clearly defined meaning I can find what is needed.|\n",
    "Total:4/6\n"
   ]
  },
  {
   "attachments": {},
   "cell_type": "markdown",
   "metadata": {},
   "source": [
    "## 6th project\n",
    "|Reporting Category  |Student Score |Collegeboard Score|Comments|\n",
    "|------|-----|------|-----|\n",
    "|Program Purpose and Function|1|1|The program has a clear purpose which defines its role and use cases|\n",
    "|Data Abstraction|0|0|The inputs aren't clearly stated here so they don't fit the criteria|\n",
    "|Managing Complexity|0|0|The lists do not fit the criteria for this and are not worthy of getting credit |\n",
    "|Procedural Abstraction|1|1|The procedure demonstrates the two functions both of which serve the program purpose |\n",
    "|Algorithm Implimentation|1|1|Sequences,selection,iteration are all present and stated in this example. |\n",
    "|Testing|0|0|The Calls dont fit the neccessary requirements needed to earn credit|\n",
    "Total: 4/6"
   ]
  },
  {
   "attachments": {},
   "cell_type": "markdown",
   "metadata": {},
   "source": [
    "Overall Conclunclusion:\n",
    "My results may differ from the collegeboard grading for a few reasons. Collegeboard is more strict with lists and with the functions of lists being explained. While I believe that if there is a list it is worthy of getting the points. Another difference between our grading is just that they are more strict. They expect the response to be perfect in order for points to be awarded to the person who submits. "
   ]
  }
 ],
 "metadata": {
  "kernelspec": {
   "display_name": "Python 3",
   "language": "python",
   "name": "python3"
  },
  "language_info": {
   "name": "python",
   "version": "3.10.6 (main, Aug 10 2022, 11:40:04) [GCC 11.3.0]"
  },
  "orig_nbformat": 4,
  "vscode": {
   "interpreter": {
    "hash": "916dbcbb3f70747c44a77c7bcd40155683ae19c65e1c03b4aa3499c5328201f1"
   }
  }
 },
 "nbformat": 4,
 "nbformat_minor": 2
}
