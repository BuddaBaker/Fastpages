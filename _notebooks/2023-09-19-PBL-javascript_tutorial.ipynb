{
 "cells": [
  {
   "attachments": {},
   "cell_type": "markdown",
   "metadata": {},
   "source": [
    "# JavaScript Tutorial\n",
    "> Quick launch into Variables, Functions, Arrays, Classes, HTML.\n",
    "\n",
    "- layout: default\n",
    "- toc: true\n",
    "- badges: false\n",
    "- week: 33"
   ]
  },
  {
   "attachments": {},
   "cell_type": "markdown",
   "metadata": {},
   "source": [
    "## Hacks\n",
    "> One key to these hacks is to build confidence with me going into final grade, I would like to see each student adapt this frontend work in their final project.  Second key is the finished work can serve as review for the course, notes for the future in relationship to frontend.\n",
    "- Adapt this tutorial to your own work\n",
    "- Consider what you need to work on to be stronger developer\n",
    "- Show something creative or unique, no cloning\n",
    "- Be ready to talk to Teacher for 5 to 10 minutes. Individually!!!\n",
    "- Show in Jupyter Notebook during discussion, show Theme and ChatGPT\n",
    "- Have a runtime final in GithHub Pages (or Fastpage)"
   ]
  },
  {
   "attachments": {},
   "cell_type": "markdown",
   "metadata": {},
   "source": [
    "%%html\n",
    "<html>\n",
    "    <head>\n",
    "        <style>\n",
    "             {\n",
    "                background-color: #42e3f5;\n",
    "                padding: 8px;\n",
    "                border: 1px solid #ccc;\n",
    "            }\n",
    "        </style>\n",
    "    </head>\n",
    "    <body>\n",
    "        <div id=\"output\">\n",
    "            Testing.\n",
    "        </div>\n",
    "    </body>\n",
    "</html>"
   ]
  },
  {
   "attachments": {},
   "cell_type": "markdown",
   "metadata": {},
   "source": [
    "## Output Explored"
   ]
  },
  {
   "cell_type": "code",
   "execution_count": 1,
   "metadata": {},
   "outputs": [
    {
     "data": {
      "application/javascript": "element.append(\"Hi .\");\n\n// Browser Console output; debugging or tracing\nelement.append(\" I am not taking APCSA next year. I like coding.\");\n\n",
      "text/plain": [
       "<IPython.core.display.Javascript object>"
      ]
     },
     "metadata": {},
     "output_type": "display_data"
    }
   ],
   "source": [
    "%%js\n",
    "element.append(\"Hi .\");\n",
    "\n",
    "// Browser Console output; debugging or tracing\n",
    "element.append(\" I am not taking APCSA next year. I like coding.\");\n",
    "\n"
   ]
  },
  {
   "attachments": {},
   "cell_type": "markdown",
   "metadata": {},
   "source": [
    "## Multiple Outputs using One Variable"
   ]
  },
  {
   "cell_type": "code",
   "execution_count": 2,
   "metadata": {},
   "outputs": [
    {
     "data": {
      "application/javascript": "console.log(\"Multiple Outputs Using One Variable\");\n\nvar msg = \"Test\";\n\n// Use msg to output code to Console and Jupyter Notebook\nconsole.log(msg);  //right click browser select Inspect, then select Console to view\nelement.text(msg);\n//alert(msg);\n",
      "text/plain": [
       "<IPython.core.display.Javascript object>"
      ]
     },
     "metadata": {},
     "output_type": "display_data"
    }
   ],
   "source": [
    "%%js\n",
    "console.log(\"Multiple Outputs Using One Variable\");\n",
    "\n",
    "var msg = \"Test\";\n",
    "\n",
    "// Use msg to output code to Console and Jupyter Notebook\n",
    "console.log(msg);  //right click browser select Inspect, then select Console to view\n",
    "element.text(msg);\n",
    "//alert(msg);"
   ]
  },
  {
   "attachments": {},
   "cell_type": "markdown",
   "metadata": {},
   "source": [
    "## Building a Person Object and JSON"
   ]
  },
  {
   "cell_type": "code",
   "execution_count": 3,
   "metadata": {},
   "outputs": [
    {
     "data": {
      "text/html": [
       "<!-- load jQuery and tablesorter scripts -->\n",
       "<html>\n",
       "    <head>\n",
       "        <!-- load jQuery and tablesorter scripts -->\n",
       "        <script src=\"https://ajax.googleapis.com/ajax/libs/jquery/3.6.0/jquery.min.js\"></script>\n",
       "        <script src=\"https://cdnjs.cloudflare.com/ajax/libs/jquery.tablesorter/2.31.3/js/jquery.tablesorter.min.js\"></script>\n",
       "    </head>\n",
       "\n",
       "    <body>\n",
       "        <table id=\"jsonTable\">\n",
       "            <thead>\n",
       "                <tr>\n",
       "                    <th>NFL PLAYER JSON Data</th>\n",
       "                </tr>\n",
       "            </thead>\n",
       "            <tbody>\n",
       "                <tr>\n",
       "                    <td id=\"jsonText\">{\n",
       "                        \"player\": [\n",
       "                          {\n",
       "                            \"name\": \"JJ Watt\",\n",
       "                            \"team\": \"Cardinals\",\n",
       "                            \"age\": 37,\n",
       "                          },\n",
       "                          {\n",
       "                            \"name\": \"TJ Watt\",\n",
       "                            \"team\": \"Steelers\",\n",
       "                            \"age\": 30,\n",
       "                          },\n",
       "                        ]\n",
       "                      }\n",
       "                      </td>\n",
       "                </tr>\n",
       "            </tbody>\n",
       "        </table>\n",
       "\n",
       "    </body>\n",
       "</html>\n"
      ],
      "text/plain": [
       "<IPython.core.display.HTML object>"
      ]
     },
     "metadata": {},
     "output_type": "display_data"
    }
   ],
   "source": [
    "%%html\n",
    "<!-- load jQuery and tablesorter scripts -->\n",
    "<html>\n",
    "    <head>\n",
    "        <!-- load jQuery and tablesorter scripts -->\n",
    "        <script src=\"https://ajax.googleapis.com/ajax/libs/jquery/3.6.0/jquery.min.js\"></script>\n",
    "        <script src=\"https://cdnjs.cloudflare.com/ajax/libs/jquery.tablesorter/2.31.3/js/jquery.tablesorter.min.js\"></script>\n",
    "    </head>\n",
    "\n",
    "    <body>\n",
    "        <table id=\"jsonTable\">\n",
    "            <thead>\n",
    "                <tr>\n",
    "                    <th>NFL PLAYER JSON Data</th>\n",
    "                </tr>\n",
    "            </thead>\n",
    "            <tbody>\n",
    "                <tr>\n",
    "                    <td id=\"jsonText\">{\n",
    "                        \"player\": [\n",
    "                          {\n",
    "                            \"name\": \"JJ Watt\",\n",
    "                            \"team\": \"Cardinals\",\n",
    "                            \"age\": 37,\n",
    "                          },\n",
    "                          {\n",
    "                            \"name\": \"TJ Watt\",\n",
    "                            \"team\": \"Steelers\",\n",
    "                            \"age\": 30,\n",
    "                          },\n",
    "                        ]\n",
    "                      }\n",
    "                      </td>\n",
    "                </tr>\n",
    "            </tbody>\n",
    "        </table>\n",
    "\n",
    "    </body>\n",
    "</html>"
   ]
  },
  {
   "cell_type": "code",
   "execution_count": 7,
   "metadata": {},
   "outputs": [
    {
     "data": {
      "application/javascript": "class NFL {\n  constructor(name, team, age) {\n    this.name = name;\n    this.team = team;\n    this.age = age;\n  }\n\n  getJSON() {\n    const obj = {\n      name: this.name,\n      team: this.team,\n      age: this.age,\n     \n    };\n    const json = JSON.stringify(obj);\n    return json;\n  }\n\n  logIt() {\n    console.info(this);\n    element.append(this.getJSON());\n  }\n}\n\nconst NFLData = {\n  name: \"JJ Watt\",\n  team: \"Cardinals\",\n  age: 37,\n};\n\nconst js = new NFL(\n  NFLData.name,\n  NFLData.team,\n  NFLData.age\n);\n\njs.logIt();\n",
      "text/plain": [
       "<IPython.core.display.Javascript object>"
      ]
     },
     "metadata": {},
     "output_type": "display_data"
    }
   ],
   "source": [
    "%%js\n",
    "class NFL {\n",
    "  constructor(name, team, age) {\n",
    "    this.name = name;\n",
    "    this.team = team;\n",
    "    this.age = age;\n",
    "  }\n",
    "\n",
    "  getJSON() {\n",
    "    const obj = {\n",
    "      name: this.name,\n",
    "      team: this.team,\n",
    "      age: this.age,\n",
    "     \n",
    "    };\n",
    "    const json = JSON.stringify(obj);\n",
    "    return json;\n",
    "  }\n",
    "\n",
    "  logIt() {\n",
    "    console.info(this);\n",
    "    element.append(this.getJSON());\n",
    "  }\n",
    "}\n",
    "\n",
    "const NFLData = {\n",
    "  name: \"JJ Watt\",\n",
    "  team: \"Cardinals\",\n",
    "  age: 37,\n",
    "};\n",
    "\n",
    "const js = new NFL(\n",
    "  NFLData.name,\n",
    "  NFLData.team,\n",
    "  NFLData.age\n",
    ");\n",
    "\n",
    "js.logIt();"
   ]
  },
  {
   "attachments": {},
   "cell_type": "markdown",
   "metadata": {},
   "source": [
    "## Project Usage: JavaScript Sorting"
   ]
  },
  {
   "cell_type": "code",
   "execution_count": 11,
   "metadata": {},
   "outputs": [
    {
     "data": {
      "text/html": [
       "\n",
       "<table id=\"sportsTable\">\n",
       "  <thead>\n",
       "    <tr>\n",
       "      <th onclick=\"sortTable('name')\">Name</th>\n",
       "      <th onclick=\"sortTable('passing yards')\">Passing Yards</th>\n",
       "      <th onclick=\"sortTable('touchdown passes')\">Touchdown Passes</th>\n",
       "      <th onclick=\"sortTable('interceptions')\">Interceptions</th>\n",
       "      <th onclick=\"sortTable('completion percentage')\">Completion Percentage</th>\n",
       "      <th onclick=\"sortTable('rushing yards')\">Rushing Yards</th>\n",
       "      <th onclick=\"sortTable('rushing touchdowns')\">Rushing Touchdowns</th>\n",
       "      <th onclick=\"sortTable('receiving yards')\">Receiving Yards</th>\n",
       "      <th onclick=\"sortTable('receiving touchdowns')\">Receiving Touchdowns</th>\n",
       "      <th onclick=\"sortTable('tackles')\">Tackles</th>\n",
       "      <th onclick=\"sortTable('sacks')\">Sacks</th>\n",
       "    </tr>\n",
       "  </thead>\n",
       "  <tbody>\n",
       "    <tr>\n",
       "      <td>Baker Mayfield</td>\n",
       "      <td>4,500</td>\n",
       "      <td>35</td>\n",
       "      <td>10</td>\n",
       "      <td>65%</td>\n",
       "      <td>300</td>\n",
       "      <td>8</td>\n",
       "      <td>800</td>\n",
       "      <td>10</td>\n",
       "      <td>80</td>\n",
       "      <td>5</td>\n",
       "    </tr>\n",
       "    <tr>\n",
       "      <td>Tom Brady</td>\n",
       "      <td>3,800</td>\n",
       "      <td>30</td>\n",
       "      <td>5</td>\n",
       "      <td>62%</td>\n",
       "      <td>200</td>\n",
       "      <td>6</td>\n",
       "      <td>600</td>\n",
       "      <td>8</td>\n",
       "      <td>70</td>\n",
       "      <td>3</td>\n",
       "    </tr>\n",
       "  </tbody>\n",
       "</table>\n",
       "\n",
       "<script>\n",
       "  // sortTable function meant to sort based on each column header.\n",
       "  function getColumnIndex(columnName) {\n",
       "    // each column name is taken in columnName to get its index.\n",
       "    const table = document.getElementById('sportsTable');\n",
       "    const headerRow = table.getElementsByTagName('thead')[0].getElementsByTagName('tr')[0];\n",
       "    // contains the column headers, index 0\n",
       "    const headers = Array.from(headerRow.getElementsByTagName('th'));\n",
       "    return headers.findIndex(header => header.innerText.toLowerCase() === columnName.toLowerCase()) + 1;\n",
       "    // converts column header names to lowercase to account for sortTable definitions\n",
       "  }\n",
       "\n",
       "  function sortTable(columnName) {\n",
       "    const table = document.getElementById('sportsTable');\n",
       "    // constant calls the tableID that was previously defined\n",
       "    const rows = Array.from(table.tBodies[0].getElementsByTagName('tr'));\n",
       "    const headerRow = table.getElementsByTagName('thead')[0].getElementsByTagName('tr')[0];\n",
       "    const isAscending = !headerRow.classList.contains('asc');\n",
       "    // this is a very important line - the asc class helps the function decide whether or not the column is going to be sorted in increasing order or decreasing order.\n",
       "\n",
       "    rows.sort((rowA, rowB) => {\n",
       "      let cellA = rowA.querySelector(`td:nth-child(${getColumnIndex(columnName)})`).innerText;\n",
       "      let cellB = rowB.querySelector(`td:nth-child(${getColumnIndex(columnName)})`).innerText;\n",
       "      // the nth-child selector is different from normal JS arrays, these have an index starting at 1 rather than 0\n",
       "      // the rows are sorted based on the column. getColumnIndex is used to get the index of the\n"
      ],
      "text/plain": [
       "<IPython.core.display.HTML object>"
      ]
     },
     "metadata": {},
     "output_type": "display_data"
    }
   ],
   "source": [
    "%%html\n",
    "\n",
    "<table id=\"sportsTable\">\n",
    "  <thead>\n",
    "    <tr>\n",
    "      <th onclick=\"sortTable('name')\">Name</th>\n",
    "      <th onclick=\"sortTable('passing yards')\">Passing Yards</th>\n",
    "      <th onclick=\"sortTable('touchdown passes')\">Touchdown Passes</th>\n",
    "      <th onclick=\"sortTable('interceptions')\">Interceptions</th>\n",
    "      <th onclick=\"sortTable('completion percentage')\">Completion Percentage</th>\n",
    "      <th onclick=\"sortTable('rushing yards')\">Rushing Yards</th>\n",
    "      <th onclick=\"sortTable('rushing touchdowns')\">Rushing Touchdowns</th>\n",
    "      <th onclick=\"sortTable('receiving yards')\">Receiving Yards</th>\n",
    "      <th onclick=\"sortTable('receiving touchdowns')\">Receiving Touchdowns</th>\n",
    "      <th onclick=\"sortTable('tackles')\">Tackles</th>\n",
    "      <th onclick=\"sortTable('sacks')\">Sacks</th>\n",
    "    </tr>\n",
    "  </thead>\n",
    "  <tbody>\n",
    "    <tr>\n",
    "      <td>Baker Mayfield</td>\n",
    "      <td>4,500</td>\n",
    "      <td>35</td>\n",
    "      <td>10</td>\n",
    "      <td>65%</td>\n",
    "      <td>300</td>\n",
    "      <td>8</td>\n",
    "      <td>800</td>\n",
    "      <td>10</td>\n",
    "      <td>80</td>\n",
    "      <td>5</td>\n",
    "    </tr>\n",
    "    <tr>\n",
    "      <td>Tom Brady</td>\n",
    "      <td>3,800</td>\n",
    "      <td>30</td>\n",
    "      <td>5</td>\n",
    "      <td>62%</td>\n",
    "      <td>200</td>\n",
    "      <td>6</td>\n",
    "      <td>600</td>\n",
    "      <td>8</td>\n",
    "      <td>70</td>\n",
    "      <td>3</td>\n",
    "    </tr>\n",
    "  </tbody>\n",
    "</table>\n",
    "\n",
    "<script>\n",
    "  // sortTable function meant to sort based on each column header.\n",
    "  function getColumnIndex(columnName) {\n",
    "    // each column name is taken in columnName to get its index.\n",
    "    const table = document.getElementById('sportsTable');\n",
    "    const headerRow = table.getElementsByTagName('thead')[0].getElementsByTagName('tr')[0];\n",
    "    // contains the column headers, index 0\n",
    "    const headers = Array.from(headerRow.getElementsByTagName('th'));\n",
    "    return headers.findIndex(header => header.innerText.toLowerCase() === columnName.toLowerCase()) + 1;\n",
    "    // converts column header names to lowercase to account for sortTable definitions\n",
    "  }\n",
    "\n",
    "  function sortTable(columnName) {\n",
    "    const table = document.getElementById('sportsTable');\n",
    "    // constant calls the tableID that was previously defined\n",
    "    const rows = Array.from(table.tBodies[0].getElementsByTagName('tr'));\n",
    "    const headerRow = table.getElementsByTagName('thead')[0].getElementsByTagName('tr')[0];\n",
    "    const isAscending = !headerRow.classList.contains('asc');\n",
    "    // this is a very important line - the asc class helps the function decide whether or not the column is going to be sorted in increasing order or decreasing order.\n",
    "\n",
    "    rows.sort((rowA, rowB) => {\n",
    "      let cellA = rowA.querySelector(`td:nth-child(${getColumnIndex(columnName)})`).innerText;\n",
    "      let cellB = rowB.querySelector(`td:nth-child(${getColumnIndex(columnName)})`).innerText;\n",
    "      // the nth-child selector is different from normal JS arrays, these have an index starting at 1 rather than 0\n",
    "      // the rows are sorted based on the column. getColumnIndex is used to get the index of the\n"
   ]
  },
  {
   "attachments": {},
   "cell_type": "markdown",
   "metadata": {},
   "source": [
    "## Future Programming"
   ]
  },
  {
   "attachments": {},
   "cell_type": "markdown",
   "metadata": {},
   "source": [
    "Since I am not going to be taking APCSA next year I will have to work on my coding skills outside of school. For example currently I am working on my skills with machine learning, which is something I am very passionate about in the programming field. I will continue to work on some projects even next year because the goal is that I retain and gain new skills that I can apply in college and later on. I want to use AI to help with a good cause, something I haven't yet found out about. I know the basics of AI but with practice and learning I will develop those skills to become a seasoned programmer. \n",
    "\n",
    "I am also currently planning on creating a website which is how I will use my skills I have learned from CSP and make sure I don't forget them. "
   ]
  }
 ],
 "metadata": {
  "kernelspec": {
   "display_name": "base",
   "language": "python",
   "name": "python3"
  },
  "language_info": {
   "codemirror_mode": {
    "name": "ipython",
    "version": 3
   },
   "file_extension": ".py",
   "mimetype": "text/x-python",
   "name": "python",
   "nbconvert_exporter": "python",
   "pygments_lexer": "ipython3",
   "version": "3.9.12"
  }
 },
 "nbformat": 4,
 "nbformat_minor": 2
}
