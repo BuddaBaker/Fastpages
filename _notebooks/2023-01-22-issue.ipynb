{
 "cells": [
  {
   "attachments": {},
   "cell_type": "markdown",
   "metadata": {},
   "source": [
    "During the Backend hacks I was able to use my code to create the table however I was unable to put my user input into the .db file. The issues comes from the fact that the categories are present however there isn't a data in the table. To fix this I used google articles https://stackoverflow.com/questions/58199829/database-file-is-empty-but-database-is-working which were unable to help me fix this issue. "
   ]
  },
  {
   "attachments": {},
   "cell_type": "markdown",
   "metadata": {},
   "source": [
    "After changing the code when I tried to run the file again I got an error saying \"no module named _init\". I tried to delete the .db file to fix this however that didn't fix it. I also tried the solutions here:https://www.freecodecamp.org/news/module-not-found-error-in-python-solved/ and those were still not able to help me solve the problem. "
   ]
  }
 ],
 "metadata": {
  "kernelspec": {
   "display_name": "Python 3",
   "language": "python",
   "name": "python3"
  },
  "language_info": {
   "name": "python",
   "version": "3.10.6 (main, Aug 10 2022, 11:40:04) [GCC 11.3.0]"
  },
  "orig_nbformat": 4,
  "vscode": {
   "interpreter": {
    "hash": "916dbcbb3f70747c44a77c7bcd40155683ae19c65e1c03b4aa3499c5328201f1"
   }
  }
 },
 "nbformat": 4,
 "nbformat_minor": 2
}
