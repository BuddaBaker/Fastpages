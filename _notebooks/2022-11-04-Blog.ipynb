{
 "cells": [
  {
   "cell_type": "markdown",
   "metadata": {},
   "source": [
    "# Blog Night at the Muesuem\n",
    "> Blog Night at the Muesuem\n",
    "\n",
    "- toc: true \n",
    "- badges: true\n",
    "- comments: true\n",
    "- categories: [Posts]\n",
    "- title: Blog Night at the Museum"
   ]
  },
  {
   "cell_type": "markdown",
   "metadata": {},
   "source": [
    "- A common theme of the 3D Animation class was Donuts. Some of the designs were very intricate with good shadows which made it seem like it was a real picture. \n",
    "- The ceramics class had very good designs. One that stuck out to me was an octopus which had tentacles and seemed very realistic and was very detailed\n",
    "- A CSP Project that I saw was hangman which was using an API to get the words for the hangman and drawing a hangman for every mistake letter guess. It was a very cool project idea because it was very detailed. \n",
    "- Another project I saw was an nba team picker where you put in your team and it prints out the stats of the players on that team"
   ]
  }
 ],
 "metadata": {
  "language_info": {
   "name": "python"
  },
  "orig_nbformat": 4
 },
 "nbformat": 4,
 "nbformat_minor": 2
}
