{
 "cells": [
  {
   "cell_type": "markdown",
   "metadata": {},
   "source": [
    "# Blog Night at the Muesuem\n",
    "> Blog Night at the Muesuem\n",
    "\n",
    "- toc: true \n",
    "- badges: true\n",
    "- comments: true\n",
    "- categories: [Posts]\n",
    "- title: Blog Night at the Museum"
   ]
  },
  {
   "cell_type": "markdown",
   "metadata": {},
   "source": [
    "- A common theme of the 3D Animation class was Donuts. Some of the designs were very intricate with good shadows which made it seem like it was a real picture. \n",
    "- The ceramics class had very good designs. One that stuck out to me was an octopus which had tentacles and seemed very realistic and was very detailed\n",
    "- A CSP Project that I saw was hangman which was using an API to get the words for the hangman and drawing a hangman for every mistake letter guess. It was a very cool project idea because it was very detailed. \n",
    "- Another project I saw was an nba team picker where you put in your team and it prints out the stats of the players on that team. \n",
    "![Alt text](vscode-remote://wsl%2Bubuntu-22.04/home/prasithchilla/Fastpages/images/cernamics.JPG)\n",
    "![Alt text](vscode-remote://wsl%2Bubuntu-22.04/home/prasithchilla/Fastpages/images/donut.JPG)\n",
    "![Alt text](vscode-remote://wsl%2Bubuntu-22.04/home/prasithchilla/Fastpages/images/IMG_1976.JPG)"
   ]
  }
 ],
 "metadata": {
  "kernelspec": {
   "display_name": "Python 3.10.6 64-bit",
   "language": "python",
   "name": "python3"
  },
  "language_info": {
   "name": "python",
   "version": "3.10.6"
  },
  "orig_nbformat": 4,
  "vscode": {
   "interpreter": {
    "hash": "916dbcbb3f70747c44a77c7bcd40155683ae19c65e1c03b4aa3499c5328201f1"
   }
  }
 },
 "nbformat": 4,
 "nbformat_minor": 2
}
