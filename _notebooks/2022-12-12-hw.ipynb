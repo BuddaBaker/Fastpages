{
 "cells": [
  {
   "attachments": {},
   "cell_type": "markdown",
   "metadata": {},
   "source": [
    "# Unit 3 Lesson 16, Student Copy\n",
    "- toc: true\n",
    "- comments: true\n"
   ]
  },
  {
   "attachments": {},
   "cell_type": "markdown",
   "metadata": {},
   "source": [
    "### Hack #1 - Class Notes\n",
    "\n",
    "- Simulations mimic the real world, things we cannot do in real life\n",
    "- Reflect the changing state of a phenomenon\n",
    "- Its impossible to factor everything into a simulation(the results may be a bit skewed)\n",
    "- The importance of simulaitons is to have test cases\n",
    "- Account for the importance of the simulations ideas \n",
    "- Random gives a random output which means it can always vary"
   ]
  },
  {
   "cell_type": "code",
   "execution_count": 3,
   "metadata": {},
   "outputs": [
    {
     "name": "stdout",
     "output_type": "stream",
     "text": [
      "8\n"
     ]
    }
   ],
   "source": [
    "import random\n",
    "#The below 2 inputs get the maximum and the minimum\n",
    "min = int(input(\"WHat is lowest num\"))\n",
    "max = int(input(\"HIghest num plz\"))\n",
    "#Sets x to a random value in between the min and maximum\n",
    "x = random.randint(min,max)\n",
    "print(x)"
   ]
  },
  {
   "attachments": {},
   "cell_type": "markdown",
   "metadata": {},
   "source": [
    "### Hack #2 - Functions Classwork"
   ]
  },
  {
   "attachments": {},
   "cell_type": "markdown",
   "metadata": {},
   "source": [
    "For the output I added jordans and removed tie from the list"
   ]
  },
  {
   "cell_type": "code",
   "execution_count": 9,
   "metadata": {},
   "outputs": [
    {
     "name": "stdout",
     "output_type": "stream",
     "text": [
      "red shoes\n",
      "['red shoes', 'green pants', 'belt', 'jordans']\n"
     ]
    }
   ],
   "source": [
    "# insert your work with randomization/ functions and the mycloset code here # Hint: Use the functions we talked about in the beginning!\n",
    "import random\n",
    "#The two user inputs ask what items the user wants to change from the myclothes list\n",
    "add = input(\"What do you want to add\")\n",
    "remove = input(\"What you to remove\")\n",
    "def mycloset():\n",
    "    #List of clothes in the closet\n",
    "    myclothes = [\"red shoes\", \"green pants\", \"tie\", \"belt\"]\n",
    "    #The below lines add or remove the item from the users closet\n",
    "    myclothes.append(add)\n",
    "    myclothes.remove(remove)\n",
    "    #Prints a random clothing item from the list\n",
    "    print(random.choice(myclothes))\n",
    "    print(myclothes)\n",
    "mycloset()\n"
   ]
  },
  {
   "cell_type": "code",
   "execution_count": 5,
   "metadata": {},
   "outputs": [
    {
     "name": "stdout",
     "output_type": "stream",
     "text": [
      "Heads\n",
      "Tails\n",
      "Tails\n",
      "Heads\n",
      "Heads\n"
     ]
    }
   ],
   "source": [
    "import random\n",
    "\n",
    "def coinflip():         #def function \n",
    "    randomflip = random.randint(1,3) #picks either 0 or 1 randomly (50/50 chance of either) \n",
    "    if randomflip == 2 or randomflip ==1 : #assigning 0 to be heads--> if 0 is chosen then it will print, \"Heads\"\n",
    "        print(\"Heads\")\n",
    "    else:\n",
    "        if randomflip == 3: #assigning 1 to be tails--> if 1 is chosen then it will print, \"Tails\"\n",
    "            print(\"Tails\")\n",
    "\n",
    "#Tossing the coin 5 times:\n",
    "t1 = coinflip()\n",
    "t2 = coinflip()\n",
    "t3 = coinflip()\n",
    "t4 = coinflip()\n",
    "t5 = coinflip()"
   ]
  },
  {
   "cell_type": "markdown",
   "metadata": {},
   "source": [
    "### Hack #3 - Binary Simulation Problem"
   ]
  },
  {
   "cell_type": "code",
   "execution_count": 5,
   "metadata": {},
   "outputs": [
    {
     "name": "stdout",
     "output_type": "stream",
     "text": [
      "Jalen is a safe\n",
      "AJ is a zombie\n",
      "Miles is a zombie\n",
      "Sanders is a safe\n",
      "Jordan is a safe\n",
      "Lane is a zombie\n",
      "Jason is a zombie\n",
      "Darius is a zombie\n"
     ]
    }
   ],
   "source": [
    "# insert your zombie simulation here; you don't have to use this template but it will help you get started\n",
    "#imports the random library\n",
    "import random\n",
    "\n",
    "def randomnum(): # function for generating random int\n",
    "    # sets the variable integer as a random number from 0-255\n",
    "    integer = random.randint(0,255)\n",
    "    return integer\n",
    "def converttobin(n): # function for converting decimal to binary\n",
    "    # converts binary to decimal for 8 bits\n",
    "  binary = str(bin(n)[2:].zfill(8))\n",
    "  return binary\n",
    "\n",
    "def survivors(binary): # function to assign position\n",
    "    # sets all the survivors\n",
    "    survivorstatus = [\"Jalen\", \"AJ\", \"Miles\", \"Sanders\" , \"Jordan\", \"Lane\", \"Jason\", \"Darius\"]\n",
    "    # counts as we go through each bit of the binary number\n",
    "    i = 0\n",
    "    #Iterates through every bit in the binary number\n",
    "    for bit in binary:\n",
    "        #Checks whether the bit is 0 and if it is prints that the person is a zombie\n",
    "        if bit == \"0\":\n",
    "            print(survivorstatus[i], \"is a zombie\")\n",
    "            i +=1\n",
    "        #Checks if the bit is 1 if it is the person is safe\n",
    "        if bit == \"1\":\n",
    "            print(survivorstatus[i], \"is a safe\")\n",
    "            i +=1 \n",
    "survivors(converttobin(randomnum()))\n",
    "    # replace the names above with your choice of people in the house"
   ]
  },
  {
   "attachments": {},
   "cell_type": "markdown",
   "metadata": {},
   "source": [
    "### Hack #4 - Thinking through a problem\n",
    "- create your own simulation involving a dice roll\n",
    "- should include randomization and a function for rolling + multiple trials\n",
    "\n"
   ]
  },
  {
   "cell_type": "code",
   "execution_count": 11,
   "metadata": {},
   "outputs": [
    {
     "name": "stdout",
     "output_type": "stream",
     "text": [
      "Your dice roll is 4\n",
      "Your dice roll is 4\n",
      "Your dice roll is 1\n",
      "Your dice roll is 6\n"
     ]
    }
   ],
   "source": [
    "import random\n",
    "#Asks for user input about how many dice rolls they want\n",
    "n = int(input(\"How many dice rolls?\"))\n",
    "#Function roll\n",
    "def roll(n):\n",
    "    #Cycles through how many rolls they want\n",
    "    for i in range (n):\n",
    "        #Rolls the dice (getting a random number between 1 and 6)\n",
    "        x = random.randint(1,6)\n",
    "        #prints the roll of the dice\n",
    "        print(\"Your dice roll is\", x)\n",
    "roll(n)"
   ]
  },
  {
   "attachments": {},
   "cell_type": "markdown",
   "metadata": {},
   "source": [
    "### Hack 5 - Applying your knowledge to situation based problems\n",
    "\n",
    "Using the questions bank below, create a quiz that presents the user a random question and calculates the user's score. You can use the template below or make your own. Making your own using a loop can give you extra points. "
   ]
  },
  {
   "attachments": {},
   "cell_type": "markdown",
   "metadata": {},
   "source": [
    "1. A researcher gathers data about the effect of Advanced Placement®︎ classes on students' success in college and career, and develops a simulation to show how a sequence of AP classes affect a hypothetical student's pathway.Several school administrators are concerned that the simulation contains bias favoring high-income students, however.\n",
    "    - answer options:\n",
    "        1. The simulation is an abstraction and therefore cannot contain any bias\n",
    "        2. The simulation may accidentally contain bias due to the exclusion of details.\n",
    "        3. If the simulation is found to contain bias, then it is not possible to remove the bias from the simulation.\n",
    "        4. The only way for the simulation to be biased is if the researcher intentionally used data that favored their desired output.\n",
    "2. Jack is trying to plan his financial future using an online tool. The tool starts off by asking him to input details about his current finances and career. It then lets him choose different future scenarios, such as having children. For each scenario chosen, the tool does some calculations and outputs his projected savings at the ages of 35, 45, and 55.Would that be considered a simulation and why?\n",
    "    - answer options\n",
    "        1. No, it's not a simulation because it does not include a visualization of the results.\n",
    "        2. No, it's not a simulation because it does not include all the details of his life history and the future financial environment.\n",
    "        3. Yes, it's a simulation because it runs on a computer and includes both user input and computed output.\n",
    "        4. Yes, it's a simulation because it is an abstraction of a real world scenario that enables the drawing of inferences.\n",
    "3. Sylvia is an industrial engineer working for a sporting goods company. She is developing a baseball bat that can hit balls with higher accuracy and asks their software engineering team to develop a simulation to verify the design.Which of the following details is most important to include in this simulation?\n",
    "    - answer options\n",
    "        1. Realistic sound effects based on the material of the baseball bat and the velocity of the hit\n",
    "        2. A depiction of an audience in the stands with lifelike behavior in response to hit accuracy\n",
    "        3. Accurate accounting for the effects of wind conditions on the movement of the ball\n",
    "        4. A baseball field that is textured to differentiate between the grass and the dirt\n",
    "4. Ashlynn is an industrial engineer who is trying to design a safer parachute. She creates a computer simulation of the parachute opening at different heights and in different environmental conditions.What are advantages of running the simulation versus an actual experiment?\n",
    "    - answer options\n",
    "        1. The simulation will not contain any bias that favors one body type over another, while an experiment will be biased.\n",
    "        2. The simulation can be run more safely than an actual experiment\n",
    "        3. The simulation will accurately predict the parachute's safety level, while an experiment may be inaccurate due to faulty experimental design.\n",
    "        4. The simulation can test the parachute design in a wide range of environmental conditions that may be difficult to reliably reproduce in an experiment.\n",
    "    * this question has 2 correct answers\n",
    "5. YOUR OWN QUESTION; can be situational, pseudo code based, or vocab/concept based\n",
    "6. YOUR OWN QUESTION; can be situational, pseudo code based, or vocab/concept based"
   ]
  },
  {
   "cell_type": "code",
   "execution_count": 21,
   "metadata": {},
   "outputs": [
    {
     "name": "stdout",
     "output_type": "stream",
     "text": [
      "Your answer is correct\n",
      "Your answer is correct\n",
      "Your answer is correct\n",
      "Your answer is correct\n",
      "Your answer is correct\n",
      "Your answer is correct\n",
      "You scored  6 / 6 , which is  100.0 %\n"
     ]
    }
   ],
   "source": [
    "import random\n",
    "#Defines how the question is asked\n",
    "def question_and_answer(prompt):\n",
    "    # This gets the users answer\n",
    "    message = input(\"Question:\" +prompt)\n",
    "    print(\"Answer:\" +message)\n",
    "# This part is for the format of the question being asked\n",
    "def question_with_response(prompt):\n",
    "    message = input(\"Question: \" + prompt)\n",
    "    return message\n",
    "#Sets the list of questions\n",
    "questions_list = [\"A researcher gathers data about the effect of Advanced Placement®︎ classes on students' success in college and career, and develops a simulation to show how a sequence of AP classes affect a hypothetical student's pathway.Several school administrators are concerned that the simulation contains bias favoring high-income students, however. \\n(1) The simulation is an abstraction and therefore cannot contain any bias\\n (2) The simulation may accidentally contain bias due to the exclusion of details\\n (3) If the simulation is found to contain bias, then it is not possible to remove the bias from the simulation\\n (4) The only way for the simulation to be biased is if the researcher intentionally used data that favored their desired output\",\n",
    "    \"Jack is trying to plan his financial future using an online tool. The tool starts off by asking him to input details about his current finances and career. It then lets him choose different future scenarios, such as having children. For each scenario chosen, the tool does some calculations and outputs his projected savings at the ages of 35, 45, and 55.Would that be considered a simulation and why?\\n (1) No, it's not a simulation because it does not include a visualization of the results.\\n (2) No, it's not a simulation because it does not include all the details of his life history and the future financial environment\\n (3) Yes, it's a simulation because it runs on a computer and includes both user input and computed output.\\n (4) Yes, it's a simulation because it is an abstraction of a real world scenario that enables the drawing of inferences.\",\n",
    "    \"Sylvia is an industrial engineer working for a sporting goods company. She is developing a baseball bat that can hit balls with higher accuracy and asks their software engineering team to develop a simulation to verify the design.Which of the following details is most important to include in this simulation?\\n (1) Realistic sound effects based on the material of the baseball bat and the velocity of the hit\\n (2) A depiction of an audience in the stands with lifelike behavior in response to hit accuracy\\n (3) Accurate accounting for the effects of wind conditions on the movement of the ball\\n (4) A baseball field that is textured to differentiate between the grass and the dirt\",\n",
    "    \"Ashlynn is an industrial engineer who is trying to design a safer parachute. She creates a computer simulation of the parachute opening at different heights and in different environmental conditions.What are advantages of running the simulation versus an actual experiment?\\n (1) The simulation will not contain any bias that favors one body type over another, while an experiment will be biased\\n (2) The simulation can be run more safely than an actual experiment\\n (3) The simulation will accurately predict the parachute's safety level, while an experiment may be inaccurate due to faulty experimental design\\n (4) The simulation can't test the parachute design in a wide range of environmental conditions that may be difficult to reliably reproduce in an experiment\",\n",
    "    \"What is a simulation is used to mimic?\\n (1) earth\\n (2) video games\\n (3) random\\n (4) life\",\n",
    "    \"Why do we use simulations\\n (1) To test real world problems\\n (2) To get the most accurate result\\n (3) To create a game\\n (4) To make life more fun for everyone\"\n",
    "            ]       \n",
    "\n",
    "#sets the answers to check for\n",
    "answers_list = [\n",
    "    \"2\",\n",
    "    \"3\",\n",
    "    \"3\",\n",
    "    \"2,4\",\n",
    "    \"4\",\n",
    "    \"1\"\n",
    "]\n",
    "\n",
    "questions = len(questions_list)\n",
    "score = 0\n",
    "\n",
    "for i in range(len(questions_list)):\n",
    "        user_response = question_with_response(questions_list[i])\n",
    "        if user_response == answers_list[i]:\n",
    "            print(\"Your answer is correct\")\n",
    "            score += 1\n",
    "## If the answer the user inputted doesn't match any of the answers on the list (again depending on question), they will get a message saying they are wrong.\n",
    "        else:\n",
    "            print(\"Your answer is incorrect\")\n",
    "\n",
    "## After completing the quiz, the user will get their score out of 6 and the percentage\n",
    "print(\"You scored \" ,str(score) ,\"/\" , str(questions) , \", which is \" , str((score / questions) * 100) , \"%\")"
   ]
  },
  {
   "attachments": {},
   "cell_type": "markdown",
   "metadata": {},
   "source": [
    "### Hack #6 / Challenge - Taking real life problems and implementing them into code"
   ]
  },
  {
   "attachments": {},
   "cell_type": "markdown",
   "metadata": {},
   "source": [
    "Create your own simulation based on your experiences/knowledge!\n",
    "Be creative! Think about instances in your own life, science, puzzles that can be made into simulations\n",
    "\n",
    "Some ideas to get your brain running: A simulation that breeds two plants and tells you phenotypes of offspring, an adventure simulation..."
   ]
  },
  {
   "attachments": {},
   "cell_type": "markdown",
   "metadata": {},
   "source": [
    "my code simulates who will win an nfl game played 10 times. "
   ]
  },
  {
   "cell_type": "code",
   "execution_count": 15,
   "metadata": {},
   "outputs": [
    {
     "name": "stdout",
     "output_type": "stream",
     "text": [
      "Eagles won 6 times Cowboys won 4 times\n"
     ]
    }
   ],
   "source": [
    "import random\n",
    "\n",
    "teams = [\"eagles\", \"cowboys\"]\n",
    "def game():\n",
    "    eagles = 0\n",
    "    cowboys = 0\n",
    "    for i in range (10):\n",
    "        winner = random.choice(teams)\n",
    "        if winner == \"eagles\":\n",
    "            eagles +=1\n",
    "        if winner == \"cowboys\":\n",
    "            cowboys +=1\n",
    "    print(\"Eagles won\",eagles,\"times\", \"Cowboys won\",cowboys,\"times\")\n",
    "game()\n",
    "\n"
   ]
  }
 ],
 "metadata": {
  "kernelspec": {
   "display_name": "Python 3",
   "language": "python",
   "name": "python3"
  },
  "language_info": {
   "codemirror_mode": {
    "name": "ipython",
    "version": 3
   },
   "file_extension": ".py",
   "mimetype": "text/x-python",
   "name": "python",
   "nbconvert_exporter": "python",
   "pygments_lexer": "ipython3",
   "version": "3.10.6"
  },
  "orig_nbformat": 4,
  "vscode": {
   "interpreter": {
    "hash": "916dbcbb3f70747c44a77c7bcd40155683ae19c65e1c03b4aa3499c5328201f1"
   }
  }
 },
 "nbformat": 4,
 "nbformat_minor": 2
}
