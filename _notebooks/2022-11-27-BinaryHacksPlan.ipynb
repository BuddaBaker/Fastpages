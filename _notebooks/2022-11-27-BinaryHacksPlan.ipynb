{
 "cells": [
  {
   "cell_type": "markdown",
   "metadata": {},
   "source": [
    "# Binary Hacks \n",
    "> Binary Hacks \n",
    "\n",
    "- toc: true \n",
    "- badges: true\n",
    "- comments: true\n",
    "- categories: [Posts]\n",
    "- title: Binary Hacks "
   ]
  },
  {
   "cell_type": "markdown",
   "metadata": {},
   "source": [
    "Ideas:\n",
    "- Put the numbers under each light to show what number you are adding\n",
    "- \n",
    "Notes:\n",
    "Unit 3.1 Variables and Assignments\n",
    "Python:\n",
    "- For number variables you set the name and the value\n",
    "- Boolean variables are true or false\n",
    "- You can append to a list to add values to it\n",
    "Java:\n",
    "- Define a variable with var\n",
    "- const sets a value that doesn't change\n",
    "\n",
    "3.2 Data Abstraction\n",
    "Python:\n",
    "- In AP Exams index values start with 1 not 0\n",
    "- You can break down lists into more lists\n",
    "- Len gives you how many items are in the list\n",
    "- Split function splits a string into a list\n",
    "- The function .join makes a list into a single string \n",
    "Java: \n",
    "- Combine previous lists to create new lists with new data\n",
    "- Convert Java output to HTML for a nice table and output"
   ]
  }
 ],
 "metadata": {
  "kernelspec": {
   "display_name": "Python 3.10.6 64-bit",
   "language": "python",
   "name": "python3"
  },
  "language_info": {
   "name": "python",
   "version": "3.10.6"
  },
  "orig_nbformat": 4,
  "vscode": {
   "interpreter": {
    "hash": "916dbcbb3f70747c44a77c7bcd40155683ae19c65e1c03b4aa3499c5328201f1"
   }
  }
 },
 "nbformat": 4,
 "nbformat_minor": 2
}
