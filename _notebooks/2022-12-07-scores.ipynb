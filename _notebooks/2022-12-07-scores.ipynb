{
 "cells": [
  {
   "attachments": {},
   "cell_type": "markdown",
   "metadata": {},
   "source": [
    "Scores:\n",
    "1. Section 1-2\n",
    "2. Section 3-4\n",
    "3. Section 5-7 - 0.8\n",
    "4. Section 8,10- 0.8\n",
    "5. Section 9,11 - 0.75\n",
    "6. Section 12-13 - 0.9"
   ]
  },
  {
   "attachments": {},
   "cell_type": "markdown",
   "metadata": {},
   "source": [
    "Algorithim:\n",
    "A set of commands that runs a certain piece of code repetively\n",
    "\n"
   ]
  },
  {
   "cell_type": "code",
   "execution_count": 4,
   "metadata": {},
   "outputs": [
    {
     "name": "stdout",
     "output_type": "stream",
     "text": [
      "15\n"
     ]
    }
   ],
   "source": [
    "sum = 0 # start with a sum of 0\n",
    "for i in range (1, 6): # you will repeat the process five times for integers 1-5\n",
    "    sum = sum + i # add the number to your sum\n",
    "print(sum)"
   ]
  },
  {
   "attachments": {},
   "cell_type": "markdown",
   "metadata": {},
   "source": [
    "Binary Search- Search procedure which searches the median to find a desired number"
   ]
  },
  {
   "attachments": {},
   "cell_type": "markdown",
   "metadata": {},
   "source": [
    "List- List of different elements in one item"
   ]
  },
  {
   "cell_type": "code",
   "execution_count": null,
   "metadata": {},
   "outputs": [],
   "source": [
    "my_list = [1, \"Hello\", 3.4]"
   ]
  },
  {
   "attachments": {},
   "cell_type": "markdown",
   "metadata": {},
   "source": [
    "Array- Multiple data points as one part"
   ]
  },
  {
   "cell_type": "code",
   "execution_count": null,
   "metadata": {},
   "outputs": [],
   "source": [
    "cars = [\"Ford\", \"Volvo\", \"BMW\"]"
   ]
  },
  {
   "attachments": {},
   "cell_type": "markdown",
   "metadata": {},
   "source": [
    "Boolean- True or false value which fullfills a certain variable"
   ]
  },
  {
   "cell_type": "code",
   "execution_count": 3,
   "metadata": {},
   "outputs": [
    {
     "name": "stdout",
     "output_type": "stream",
     "text": [
      "false\n",
      "true\n"
     ]
    }
   ],
   "source": [
    "sunny = \"false\"\n",
    "fun = \"true\"\n",
    "print(sunny)\n",
    "print(fun)"
   ]
  },
  {
   "attachments": {},
   "cell_type": "markdown",
   "metadata": {},
   "source": [
    "Nested Conditionals - Multiple conditional loops put inside of each other, so one loop will only run if the other loops condition is fullfilled"
   ]
  },
  {
   "cell_type": "code",
   "execution_count": 1,
   "metadata": {},
   "outputs": [
    {
     "name": "stdout",
     "output_type": "stream",
     "text": [
      "Hello\n"
     ]
    }
   ],
   "source": [
    "var = 3\n",
    "if var % 2 == 1:\n",
    "    if var == 3:\n",
    "        print(\"Hello\")"
   ]
  },
  {
   "attachments": {},
   "cell_type": "markdown",
   "metadata": {},
   "source": [
    "Variables - a symbolic name that is a reference or pointer to an object\n",
    "Link:https://realpython.com/python-variables/#:~:text=A%20Python%20variable%20is%20a,the%20object%20by%20that%20name.\n",
    "\n",
    "Data Types - is a classification that specifies which type of value a variable has and what type of mathematical, relational or logical operations can be applied to it without causing an error. "
   ]
  },
  {
   "cell_type": "code",
   "execution_count": 3,
   "metadata": {},
   "outputs": [
    {
     "name": "stdout",
     "output_type": "stream",
     "text": [
      "300\n",
      "300\n",
      "300.0\n",
      "30000\n"
     ]
    }
   ],
   "source": [
    "var = 300\n",
    "bar = int(300.5)\n",
    "star = float(300)\n",
    "tar = str(30000)\n",
    "\n",
    "print(var)\n",
    "print(bar)\n",
    "print(star)\n",
    "print(tar)"
   ]
  },
  {
   "attachments": {},
   "cell_type": "markdown",
   "metadata": {},
   "source": [
    "Simulation- run on a single computer, or a network of computers, to reproduce behavior of a system.\n",
    "Link: https://www.codingame.com/learn/simulation#:~:text=A%20computer%20simulation%20is%20a,and%20take%20the%20best%20decision."
   ]
  },
  {
   "cell_type": "code",
   "execution_count": null,
   "metadata": {},
   "outputs": [],
   "source": [
    "import random\n",
    "#Asks for user input about how many dice rolls they want\n",
    "n = int(input(\"How many dice rolls?\"))\n",
    "#Function roll\n",
    "def roll(n):\n",
    "    #Cycles through how many rolls they want\n",
    "    for i in range (n):\n",
    "        #Rolls the dice (getting a random number between 1 and 6)\n",
    "        x = random.randint(1,6)\n",
    "        #prints the roll of the dice\n",
    "        print(\"Your dice roll is\", x)\n",
    "roll(n)"
   ]
  },
  {
   "attachments": {},
   "cell_type": "markdown",
   "metadata": {},
   "source": [
    "Procedural abstraction - when we write code sections (called \"procedures\" or in Java, \"static methods\") which are generalised by having variable parameters. The idea is that we have code which can cope with a variety of different situations, depending on how its parameters are set when it is called\n",
    "Link: http://www.eecs.qmul.ac.uk/~mmh/AMCM048/abstraction/procedural.html#:~:text=Procedural%20abstraction%20is%20when%20we,set%20when%20it%20is%20called.\n"
   ]
  },
  {
   "attachments": {},
   "cell_type": "markdown",
   "metadata": {},
   "source": [
    "Efficiency\n",
    "- Polynomial: Work is proportional to time(1:1)\n",
    "- Exponential: Time is exponential to work rate(2:1)\n"
   ]
  },
  {
   "cell_type": "code",
   "execution_count": 5,
   "metadata": {},
   "outputs": [
    {
     "name": "stdout",
     "output_type": "stream",
     "text": [
      "1.2090861797332764 seconds\n"
     ]
    }
   ],
   "source": [
    "import time\n",
    "numlist = [1,3,5,7,9,11,13,15,17,19]\n",
    "valuelist = [0,3,6,9,12,15,18,21]\n",
    "def isvalue(value,array):\n",
    "    #--------------------\n",
    "    exists = False\n",
    "    while exists == False:\n",
    "        for i in range(len(array)):\n",
    "            if value == array[i]:\n",
    "                exists = True\n",
    "        if exists == False:\n",
    "            return exists\n",
    "    \n",
    "    #--------------------\n",
    "\n",
    "starttime = time.time()\n",
    "for i in range(100000):\n",
    "    for i in range(len(valuelist)):\n",
    "        x = isvalue(valuelist[i],numlist)\n",
    "endtime = time.time()\n",
    "print(endtime-starttime,'seconds') "
   ]
  },
  {
   "attachments": {},
   "cell_type": "markdown",
   "metadata": {},
   "source": [
    "Random Function in Python - Function that can be used to choose an item from a type of data set randomly"
   ]
  },
  {
   "cell_type": "code",
   "execution_count": 6,
   "metadata": {},
   "outputs": [
    {
     "name": "stdout",
     "output_type": "stream",
     "text": [
      "2\n",
      "o1\n",
      "s\n",
      "5\n"
     ]
    }
   ],
   "source": [
    "import random\n",
    "\n",
    "print(random.randint(0,9))\n",
    "\n",
    "list = [\"o1\", \"o2\", \"o3\"]\n",
    "print(random.choice(list))\n",
    "\n",
    "string = \"Prasith\"\n",
    "print(random.choice(string))\n",
    "\n",
    "\n",
    "tuple1 = (1, 2, 3, 4, 5)\n",
    "print(random.choice(tuple1))\n"
   ]
  },
  {
   "attachments": {},
   "cell_type": "markdown",
   "metadata": {},
   "source": [
    "Library - A Python library is a collection of related modules. It contains bundles of code that can be used repeatedly in different programs.\n",
    "Source: https://www.geeksforgeeks.org/libraries-in-python/"
   ]
  },
  {
   "cell_type": "code",
   "execution_count": 8,
   "metadata": {},
   "outputs": [
    {
     "name": "stdout",
     "output_type": "stream",
     "text": [
      "4.0\n",
      "0.0015926529164868282\n"
     ]
    }
   ],
   "source": [
    "import math\n",
    "  \n",
    "A = 16\n",
    "print(math.sqrt(A))\n",
    "\n",
    "# Importing specific items\n",
    "from math import sqrt, sin\n",
    "\n",
    "B = 3.14\n",
    "print(sin(B))\n"
   ]
  },
  {
   "attachments": {},
   "cell_type": "markdown",
   "metadata": {},
   "source": [
    "Week 2 Vocab: \n"
   ]
  },
  {
   "attachments": {},
   "cell_type": "markdown",
   "metadata": {},
   "source": [
    "Week 3 Vocab:\n",
    "Variables, Data Types, Assignment Operators - These methods are all used to set values, datatypes are different types of data types and assignment operators are varaibles that are set to equal other variables\n",
    "Managing Complexity with Variables:  Lists, 2D Lists, Dictionaries, Class - These are different ways you can sort your elements and data values. The different use cases are for different types of data which need for a certain python function\n",
    "Algorithms, Sequence, Selection, Iteration- Different ways to run a piece of code multiple times in different aspects of the beatiful language of python.\n",
    "Expressions, Comparison Operators, Booleans Expressions and Selection, Booleans Expressions and Iteration, Truth Tables - True or false values which relate to binary which is related to binary. In binary a 1 is true and a 0 is false. Truth tables are the different functions (XOR, AND etc. )\n",
    "Characters, Strings, Length, Concatenation, Upper, Lower, Traversing Strings - Ways to maniuplaute strings, concatination is the combination of strings, length prints the lenght of a string(characters), the upper and lower relate to the case of the string. Traversing a string goes from left to right of a string. \n",
    "Python If, Elif, Else conditionals; Nested Selection Statements- These are different python functions that run on a condition. The if statement checks if a statement is true, elif checks if another condition is true and else runs if none of the if statements are true. Nested loops are functions inside of other functions. \n",
    "Python For, While loops with Range, with List - For loop runs a certain amount of times based on the condition, and a while loop runs until the function is true. It would be useful to use a while loop when you want to run a loop many times\n",
    "Combining loops with conditionals to Break, Continue - The break stops the code and continue keeps a code running after a part is satisfied. \n",
    "Procedural Abstraction, Python Def procedures, Parameters, Return Values- You can use def function to define a function that will be run many times and you can continue to keep running it. Parameters are "
   ]
  }
 ],
 "metadata": {
  "kernelspec": {
   "display_name": "Python 3",
   "language": "python",
   "name": "python3"
  },
  "language_info": {
   "codemirror_mode": {
    "name": "ipython",
    "version": 3
   },
   "file_extension": ".py",
   "mimetype": "text/x-python",
   "name": "python",
   "nbconvert_exporter": "python",
   "pygments_lexer": "ipython3",
   "version": "3.10.6 (main, Aug 10 2022, 11:40:04) [GCC 11.3.0]"
  },
  "orig_nbformat": 4,
  "vscode": {
   "interpreter": {
    "hash": "916dbcbb3f70747c44a77c7bcd40155683ae19c65e1c03b4aa3499c5328201f1"
   }
  }
 },
 "nbformat": 4,
 "nbformat_minor": 2
}
