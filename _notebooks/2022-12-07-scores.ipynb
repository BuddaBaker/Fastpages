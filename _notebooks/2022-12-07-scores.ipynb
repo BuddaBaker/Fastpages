{
 "cells": [
  {
   "attachments": {},
   "cell_type": "markdown",
   "metadata": {},
   "source": [
    "Scores:\n",
    "1. Section 1-2\n",
    "2. Section 3-4\n",
    "3. Section 5-7 - 0.8\n",
    "4. Section 8,10- 0.8\n",
    "5. Section 9,11\n",
    "6. Section 12-13"
   ]
  },
  {
   "attachments": {},
   "cell_type": "markdown",
   "metadata": {},
   "source": [
    "\n"
   ]
  }
 ],
 "metadata": {
  "language_info": {
   "name": "python"
  },
  "orig_nbformat": 4
 },
 "nbformat": 4,
 "nbformat_minor": 2
}
