{
 "cells": [
  {
   "cell_type": "markdown",
   "metadata": {},
   "source": [
    "# Big idea 3!\n",
    "> Lesson on Big Idea 3 which includes expressions, strings, psuedocode, and more!\n",
    "\n",
    "- toc: true\n",
    "- comments: true\n",
    "- categories: [Week-13,Big-Idea-3]"
   ]
  },
  {
   "cell_type": "markdown",
   "metadata": {},
   "source": [
    "## 3.3 Expressions(Show video 1 and 3)  "
   ]
  },
  {
   "cell_type": "markdown",
   "metadata": {},
   "source": [
    "### Vocab: fill in the blanks  \n",
    "  \n",
    "the symbol for exponent is **  \n",
    "the symbol for addition is +\n",
    "the symbol for subtraction is -  \n",
    "the symbol for multiplication is *  \n",
    "the symbol for division is /\n",
    "the symbol for modulus is %\n",
    "an algorithm is a sequence of steps that does a specific task"
   ]
  },
  {
   "cell_type": "markdown",
   "metadata": {},
   "source": [
    "Sequencing Practice: the code below does not follow the intended steps below. change the code so that it does so.\n",
    "1. divide value1 by 10(value1 = 5)  \n",
    "2. multiply 2 from the result of the step 1  \n",
    "3. subtract 4 from the result of the step 2\n",
    "4. print the result of step 3"
   ]
  },
  {
   "cell_type": "code",
   "execution_count": 1,
   "metadata": {},
   "outputs": [
    {
     "name": "stdout",
     "output_type": "stream",
     "text": [
      "-3.0\n"
     ]
    }
   ],
   "source": [
    "value1 = 5\n",
    "value2 = value1 / 10 #step 1\n",
    "value3 = value2 * 2 #step 2\n",
    "value4 = value3 -4 #step 3\n",
    "print(value4)"
   ]
  },
  {
   "cell_type": "markdown",
   "metadata": {},
   "source": [
    "Selection/Iteration Practice: Create a function to print ONLY the numbers of numlist that are divisble by 3.  \n",
    "Hint: use the MOD operator (a % b) to find the remainder when a is divided by b."
   ]
  },
  {
   "cell_type": "code",
   "execution_count": 8,
   "metadata": {},
   "outputs": [
    {
     "name": "stdout",
     "output_type": "stream",
     "text": [
      "3  is divisible by 3\n",
      "4  isn't divisible by 3\n",
      "9  is divisible by 3\n",
      "76  isn't divisible by 3\n",
      "891  is divisible by 3\n"
     ]
    }
   ],
   "source": [
    "numlist = \"3\",\"4\",\"9\",\"76\",\"891\"\n",
    "for num in numlist :\n",
    "    if int(num) % 3 == 0:\n",
    "        print(num, \" is divisible by 3\")\n",
    "        continue\n",
    "    else:\n",
    "        print(num, \" isn't divisible by 3\")\n",
    "        continue\n",
    "            "
   ]
  },
  {
   "cell_type": "markdown",
   "metadata": {},
   "source": [
    "Homework/Binary Adaptation: Create a python function that will convert a decimal number 1-255 to binary using mathematical operations and powers of 2. Challenge: add frontend with javascript or html."
   ]
  },
  {
   "cell_type": "code",
   "execution_count": 10,
   "metadata": {},
   "outputs": [
    {
     "name": "stdout",
     "output_type": "stream",
     "text": [
      "Binary of 23  is: 10111\n"
     ]
    }
   ],
   "source": [
    "decimal = int(input(\"Enter a decimal number \\n\"))\n",
    "binary = 0\n",
    "ctr = 0\n",
    "new = decimal \n",
    "\n",
    "while(new > 0):\n",
    "    binary = ((new%2)*(10**ctr)) + binary\n",
    "    new = int(new/2)\n",
    "    ctr += 1\n",
    "\n",
    "#output the result       \n",
    "print(\"Binary of\", decimal, \" is:\", binary)"
   ]
  },
  {
   "cell_type": "markdown",
   "metadata": {},
   "source": [
    "## 3.4 Strings(Show video 1)"
   ]
  },
  {
   "cell_type": "markdown",
   "metadata": {},
   "source": [
    "### Vocab: fill in the blanks using the video\n",
    "Index is a number representing a position, like a character's position in a string or a string's position in a list.  \n",
    "Concatenation is connecting two strings into one\n",
    "Length is the number of characters or elements in a string or array\n",
    "A substring is a section of a string, containing some or all of the characters "
   ]
  },
  {
   "cell_type": "markdown",
   "metadata": {},
   "source": [
    "### What is psuedocode?\n",
    "Pseudocode is writing out a program in plain language with keywords that are used to refer to common coding concepts.\n",
    "\n",
    "Can you think of some benefits of using pseudocode prior to writing out the actual code?\n",
    "\n",
    "1. Choose an everyday activity\n",
    "2. Imagine that you are providing instructions for this activity to a person who has never done it before\n",
    "3. Challenge someone to do the steps you wrote out\n",
    "\n",
    "Ex. Brushing Teeth\n",
    "\n",
    "1. Pick up your toothbrush\n",
    "2. Rinse toothbrush\n",
    "3. Pick up toothpaste\n",
    "4. Place toothpaste on the toothbrush\n",
    "5. Rinse toothbrush again\n",
    "6. Brush teeth in a circular motion\n",
    "7. Spit\n",
    "8. Wash mouth \n",
    "9. Rinse toothbrush\n",
    "10. You have brushed your teeth!\n",
    "\n",
    "My Example: Playing Basketball\n",
    "1. Get a basketball\n",
    "2. Use your hands to bounce the ball from the ground to your hand\n",
    "3. Keep bouncing the ball but move it around a little bit to the left and right\n",
    "4. Bounce the ball to your hands and hold it with both hands\n",
    "5. With one hand steady the ball and with the other aim it\n",
    "6. Next push the ball from your hand to the basket\n"
   ]
  },
  {
   "cell_type": "markdown",
   "metadata": {},
   "source": [
    "### Substring/Length Practice: change the print functions to print \"hello\", \"bye\", and the string length"
   ]
  },
  {
   "cell_type": "code",
   "execution_count": 14,
   "metadata": {},
   "outputs": [
    {
     "name": "stdout",
     "output_type": "stream",
     "text": [
      "hello\n",
      "bye\n",
      "8\n"
     ]
    }
   ],
   "source": [
    "#substring = string[start:end] \n",
    "#the substring will have the characters including the index \"start\" to the character BEFORE the index \"end\"\n",
    "#len(string) will print the length of string\n",
    "\n",
    "string = \"hellobye\"\n",
    "print(string[0:5])\n",
    "print(string[5:8])\n",
    "print(len(string))"
   ]
  },
  {
   "cell_type": "markdown",
   "metadata": {},
   "source": [
    "Concatenation Practice: combine string1 and string2 to make string3, then print string3."
   ]
  },
  {
   "cell_type": "code",
   "execution_count": 9,
   "metadata": {},
   "outputs": [
    {
     "name": "stdout",
     "output_type": "stream",
     "text": [
      "computerscience\n"
     ]
    }
   ],
   "source": [
    "#string1 + string2 will add string2 to the end of string1\n",
    "\n",
    "string1 = \"computer\"\n",
    "string2 = \"science\"\n",
    "string3 = string1 + string2\n",
    "print(string3)"
   ]
  },
  {
   "cell_type": "markdown",
   "metadata": {},
   "source": [
    "Homework/List Adaptation: create a function that prints the name of each string in the list and the string's length. Challenge: add frontend with javascript or html."
   ]
  },
  {
   "cell_type": "code",
   "execution_count": 1,
   "metadata": {},
   "outputs": [
    {
     "name": "stdout",
     "output_type": "stream",
     "text": [
      "jaden 5\n",
      "max 3\n",
      "dylan 5\n",
      "orlando 7\n"
     ]
    }
   ],
   "source": [
    "names = [\"jaden\",\"max\",\"dylan\",\"orlando\"]\n",
    "\n",
    "def length(list):\n",
    "    for name in names:\n",
    "        print(name, len(name))\n",
    "\n",
    "length(names)\n"
   ]
  },
  {
   "cell_type": "markdown",
   "metadata": {},
   "source": [
    "# Stuck? \n",
    "- Check out [what we did.](https://raisinbran25.github.io/csp2/2022/11/18/expressions.html)"
   ]
  },
  {
   "cell_type": "markdown",
   "metadata": {},
   "source": [
    "# Have any questions?\n",
    "- Ask us if you have any questions!"
   ]
  }
 ],
 "metadata": {
  "kernelspec": {
   "display_name": "Python 3.8.10 64-bit",
   "language": "python",
   "name": "python3"
  },
  "language_info": {
   "codemirror_mode": {
    "name": "ipython",
    "version": 3
   },
   "file_extension": ".py",
   "mimetype": "text/x-python",
   "name": "python",
   "nbconvert_exporter": "python",
   "pygments_lexer": "ipython3",
   "version": "3.10.6"
  },
  "orig_nbformat": 4,
  "vscode": {
   "interpreter": {
    "hash": "916dbcbb3f70747c44a77c7bcd40155683ae19c65e1c03b4aa3499c5328201f1"
   }
  }
 },
 "nbformat": 4,
 "nbformat_minor": 2
}
