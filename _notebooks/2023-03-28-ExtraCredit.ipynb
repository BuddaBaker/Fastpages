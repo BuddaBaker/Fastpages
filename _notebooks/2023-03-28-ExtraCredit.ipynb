{
 "cells": [
  {
   "cell_type": "markdown",
   "metadata": {},
   "source": [
    "# Extra Credit\n",
    "> Extra Credit"
   ]
  },
  {
   "attachments": {},
   "cell_type": "markdown",
   "metadata": {},
   "source": [
    "# CSUSM Notes \n",
    "- Different pathways for computer science, such as Cybersecurity, Computer Engineering,\n",
    "- School is very flexible and has many different options even if what you intially chose isn't the perfect fit for you. \n",
    "- Hands on for applied physics with many labs. \n",
    "- Many different clubs such as robotics, 3d printing, Cybersecurity. \n",
    "- Ashley's advice is to avoid unpaid internships because of how you deserve more, apply regardless of how good you are, because getting a no isn't terrible. \n"
   ]
  },
  {
   "attachments": {},
   "cell_type": "markdown",
   "metadata": {},
   "source": [
    "# Programs\n",
    "- Summer program where you can work with a proffessor, so you can pursue interests and research oppurtunities in the field of study. \n",
    "- 4 week program, where you get paid $1500, big bucks. \n",
    "# Research\n",
    "- Cancer Cell, Quantam, Metorities, Micro Plastics. \n",
    "- VR Labs are a possiblity with Chem and Comp Sci department, which is a cool development\n",
    "# Paying for College \n",
    "- There are ways to manipulate the fianances so you can be applicable for more scholarship oppurutunities\n",
    "- Unsibsidized vs Subsized Loans, both have negatives, overall don't take out loans and be smart with financial advice\n",
    "# Scholarships/Grants\n",
    "- Check student emails to get scholarship oppurtunities\n",
    "- Financial Aid office/Website\n",
    "# Life After College\n",
    "- School known for teaching creditinials, many computer science majors end up working for government organizations such as Northrop Grumman\n",
    "- Getting a masters degree is beneficial, you can get paid for these oppurtunities, if you work for a company they may pay for you to go the bachelors program.\n"
   ]
  },
  {
   "attachments": {},
   "cell_type": "markdown",
   "metadata": {},
   "source": [
    "# Extra Research:\n",
    "California State University San Marcos (CSUSM) is a public university located in San Marcos, California, United States. It was founded in 1989 as the 20th campus of the California State University system. The university offers over 100 bachelor's and master's degrees, as well as a doctorate in education.\n",
    "\n",
    "CSUSM is recognized for its focus on student success and social mobility, and is designated as a Hispanic-Serving Institution. The university serves a diverse student population, with over half of its students being first-generation college students.\n",
    "\n",
    "The campus is situated on 304 acres of land and features modern facilities, including a LEED-certified student union, a state-of-the-art science building, and a performing arts center. The university also boasts a number of unique programs and centers, such as the Office of Tribal Liaison, the Veterans Center, and the Institute for Palliative Care.\n",
    "\n",
    "CSUSM is known for its commitment to community engagement and is involved in numerous partnerships and collaborations with local organizations and businesses. The university is also home to a number of research centers and institutes, including the Center for Water Studies, the Center for Societal Change, and the Center for Children and Families.\n",
    "\n",
    "Overall, CSUSM is a dynamic and thriving institution that is dedicated to providing a high-quality education to its students while also serving the needs of the surrounding community."
   ]
  },
  {
   "attachments": {},
   "cell_type": "markdown",
   "metadata": {},
   "source": [
    "# Final Thoughts\n",
    "Cal State San Marcos would be a great fit for me as a college student. I love to learn more and do research, which is possible at CSUSM because of how many research oppurtunities there are. Furthermore it seems to be a tight knit community, because of what was described in the presentation. A great atmosphere is something I look for in choosing a college because college life is a very imporatant factor. Furthermore there seems to be many like minded people at the school who would be willing to work hard in order to achieve a goal. This helps in building connections that I will have for the future, as both professors and students at the school would be good connections to build. For these reasons and based on the presentation, I will be applying to CSUSM when I am a senior. "
   ]
  }
 ],
 "metadata": {
  "language_info": {
   "name": "python"
  },
  "orig_nbformat": 4
 },
 "nbformat": 4,
 "nbformat_minor": 2
}
