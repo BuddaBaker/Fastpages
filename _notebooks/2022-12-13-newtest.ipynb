{
 "cells": [
  {
   "attachments": {},
   "cell_type": "markdown",
   "metadata": {},
   "source": [
    "# Blog Extra Credit \n",
    "> Blog Extra Credit\n",
    "\n",
    "- toc: true \n",
    "- badges: true\n",
    "- comments: true\n",
    "- categories: [Posts]\n",
    "- title: Blog Extra Credit"
   ]
  },
  {
   "attachments": {},
   "cell_type": "markdown",
   "metadata": {},
   "source": [
    "# Kathyleen Beveridge: \n",
    "Background:\n",
    "- Lived in Spain for a little bit\n",
    "- Lived in San Jose till 2004\n",
    "Career/Jobs:\n",
    "- Mission statement: \"Not only to survive but to thrive with passion, compassion, humor and style\n",
    "- Learned to surf on the ocean waves\n",
    "- HP mission statement: Create technology that makes life better for everyone, everywhere\n",
    "- One commonality between her companies was that they were all focused around helping the people and giving the people what they need \n",
    "NPI Stage Gates:\n",
    "- Does this product make sense for the market?\n",
    "- Does the product help the target customers"
   ]
  },
  {
   "attachments": {},
   "cell_type": "markdown",
   "metadata": {},
   "source": [
    "# Kris Porter:\n",
    "- Jobs: SRE,DevOps, Infrastructure\n",
    "Background: \n",
    "- Went to UCLA for Electrical Engineering\n",
    "- Obtained a masters degree in Electrical engineering from Cal State LA\n",
    "- Learned good skills in 2008 by learning about research (Marketable skill)\n",
    "Career: \n",
    "- Got a job at a startup in 2010 which launched his DevOps career\n",
    "- DevOps is important to prevent DDOS and to prevent hackers from accessing your site\n",
    "- Geo fences can be used to send messages to users when you are close to their stores\n",
    "- \"Continous learning\" - Always learning new skills to apply to new challenges and jobs\n",
    "Projects:\n",
    "- Streaming Media Infrastructure\n",
    "- Analysitics Infrastructure Projects\n",
    "- Twitter Projects"
   ]
  }
 ],
 "metadata": {
  "kernelspec": {
   "display_name": "Python 3",
   "language": "python",
   "name": "python3"
  },
  "language_info": {
   "name": "python",
   "version": "3.10.6 (main, Aug 10 2022, 11:40:04) [GCC 11.3.0]"
  },
  "orig_nbformat": 4,
  "vscode": {
   "interpreter": {
    "hash": "916dbcbb3f70747c44a77c7bcd40155683ae19c65e1c03b4aa3499c5328201f1"
   }
  }
 },
 "nbformat": 4,
 "nbformat_minor": 2
}
