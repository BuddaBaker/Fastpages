{
 "cells": [
  {
   "attachments": {},
   "cell_type": "markdown",
   "metadata": {},
   "source": [
    "# Blog Extra Credit \n",
    "> Blog Extra Credit\n",
    "\n",
    "- toc: true \n",
    "- badges: true\n",
    "- comments: true\n",
    "- categories: [Posts]\n",
    "- title: Blog Extra Credit"
   ]
  },
  {
   "attachments": {},
   "cell_type": "markdown",
   "metadata": {},
   "source": [
    "# Kathyleen Beveridge: \n",
    "Background:\n",
    "- Lived in Spain for a little bit\n",
    "- Lived in San Jose till 2004\n"
   ]
  },
  {
   "attachments": {},
   "cell_type": "markdown",
   "metadata": {},
   "source": [
    "Career/Jobs:\n",
    "- Mission statement: \"Not only to survive but to thrive with passion, compassion, humor and style\n",
    "- HP mission statement: Create technology that makes life better for everyone, everywhere\n",
    "- One commonality between her companies was that they were all focused around helping the people and giving the people what they need "
   ]
  },
  {
   "attachments": {},
   "cell_type": "markdown",
   "metadata": {},
   "source": [
    "NPI gate Stage:\n",
    "- What is the use of the product in the market?\n",
    "- What is the use of the product for the target market"
   ]
  },
  {
   "attachments": {},
   "cell_type": "markdown",
   "metadata": {},
   "source": [
    "# Kris Porter:\n",
    "- Jobs: SRE,DevOps, Infrastructure\n",
    "\n"
   ]
  },
  {
   "attachments": {},
   "cell_type": "markdown",
   "metadata": {},
   "source": [
    "Background: \n",
    "- Went to UCLA for Electrical Engineering\n",
    "- Obtained a masters degree in Electrical engineering from Cal State LA\n",
    "- Learned good skills in 2008 by learning about research (Marketable skill)"
   ]
  },
  {
   "attachments": {},
   "cell_type": "markdown",
   "metadata": {},
   "source": [
    "Career: \n",
    "- Got a job at a startup in 2010 which launched his DevOps career\n",
    "- DevOps is important to prevent DDOS and to prevent hackers from accessing your site\n",
    "- Geo fences can be used to send messages to users when you are close to their stores\n",
    "- \"Continous learning\" - Always learning new skills to apply to new challenges and jobs"
   ]
  },
  {
   "attachments": {},
   "cell_type": "markdown",
   "metadata": {},
   "source": [
    "Projects:\n",
    "- Streaming Media Infrastructure\n",
    "- Analysitics Infrastructure Projects\n",
    "- Twitter Projects"
   ]
  },
  {
   "attachments": {},
   "cell_type": "markdown",
   "metadata": {},
   "source": [
    "# Questions\n",
    "1. It is important to be able to speak code to other people and communicate to them if they arent able to understand it\n",
    "2. Her biggest challenge was that Qualcomm would accquire other companies so she would have many new team members and she had to learn to be adaptive\n",
    "3. Interviews in the IT jobs can be difficult because code must be from scratch and work without any errors\n",
    "4. Navigating the new job repos and new tools can be difficult but you must take time to adapt to it. \n"
   ]
  }
 ],
 "metadata": {
  "kernelspec": {
   "display_name": "Python 3",
   "language": "python",
   "name": "python3"
  },
  "language_info": {
   "name": "python",
   "version": "3.10.6 (main, Aug 10 2022, 11:40:04) [GCC 11.3.0]"
  },
  "orig_nbformat": 4,
  "vscode": {
   "interpreter": {
    "hash": "916dbcbb3f70747c44a77c7bcd40155683ae19c65e1c03b4aa3499c5328201f1"
   }
  }
 },
 "nbformat": 4,
 "nbformat_minor": 2
}
