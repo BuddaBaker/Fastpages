{
 "cells": [
  {
   "attachments": {},
   "cell_type": "markdown",
   "metadata": {},
   "source": [
    "# Blog Reflection\n",
    "> Blog Reflection \n",
    "\n",
    "- toc: true\n",
    "- comments: true"
   ]
  },
  {
   "attachments": {},
   "cell_type": "markdown",
   "metadata": {},
   "source": [
    "# 1st discussion Answers:\n",
    "**Come up with three of your own Beneficial and corresponding Harmful Effects of Computing**\n",
    "\n",
    "\n",
    "For this discussion I will talk about the use of internet to watch TV. \n",
    "- One benefit of being able to watch TV over the internet through websites such as YoutubeTV and SlingTV are that people can watch their shows whenever they want instead of having to wait for them to air on the local TV\n",
    "- Another benefit of TV being available whenver you want is the streaming networks create more TV. In the older days it would take weeks for an entire season of a show to air on local TV so the network would make new seasons for the shows less often. Now the companies are willing to make the TV shows more often because of how people will watch it. \n",
    "- One negative side affect of TV being available everywhere is that its less memorable. Since the network comapnies are creating many new shows often, there quality has reduced where the networks want to make as many shows as possible to maximize the revenue they can receieve. \n",
    "\n",
    "**Talk about dopamine issues above. Real? Parent conspiracy? Anything that is impacting your personal study and success in High School?**\n",
    "\n",
    "Yes these issues are definetly real. The media and digital world can be very addictive for many teens who don't know how to manage their time and navigate the world. The amount of distractions can lead to many teens neglecting their personal studies and responsiblities because they are unable to manage their own time. Something that affects my personal studies from the digitial world is Youtube because Youtube is very addiciting and the algorithm is made to always keep you watching. It can be very difficult to have the self control to stop watching and do other less fun things in my life. "
   ]
  },
  {
   "attachments": {},
   "cell_type": "markdown",
   "metadata": {},
   "source": [
    "# 2nd Discussion\n",
    "**How does someone empower themself in a digital world?**\n",
    "Someone can empower themselves in the digital world by using the internet to gain more connections. An example of this is through Linkedin you can meet people you would not have meet otherwise. The connections you create here are valuable throughout your life because these people can give you oppurtunities that would not have been available without the access to linkedin. \n",
    "\n",
    "\n",
    "**How does someone that is empowered help someone that is not empowered? Describe something you could do at Del Norte HS.**\n",
    "You can help someone who isn't empowered by allowing them to use your resources. For example on a large scale you could start a non-profit where students from Del Norte contribute by giving away their old devices so they can be used by the people who are not digitally empowered. You can also collect donations of money so you can use it to either fix the old technology and get it to work or you can save it to buy new devices for those who don't have the money to buy it on their own. \n",
    "\n",
    "**Is paper or red tape blocking digital empowerment? Are there such barriers at Del Norte? Elsewhere?** \n",
    "Yes there are certain stuff that block digitial enpowerment. For example the tech companies do not focus on the people who don't have much money but focus on those who have lots of money and will pay a high fee for their devices. An example of this is Apple with fees being in the thousands for a new phone which is not possible to be bought by someone in a low income situation. These limitations aren't present in Del Norte because students can get free chromebooks so they are able to submit assignments and do the work they need when at home and at school. There are limitations for some elsewhere, in places where the school district doesn't have the money to buy chromebooks or devices for everyone but rather they have to supply it themselves which is unfeasable.   "
   ]
  }
 ],
 "metadata": {
  "kernelspec": {
   "display_name": "Python 3",
   "language": "python",
   "name": "python3"
  },
  "language_info": {
   "name": "python",
   "version": "3.10.6 (main, Aug 10 2022, 11:40:04) [GCC 11.3.0]"
  },
  "orig_nbformat": 4,
  "vscode": {
   "interpreter": {
    "hash": "916dbcbb3f70747c44a77c7bcd40155683ae19c65e1c03b4aa3499c5328201f1"
   }
  }
 },
 "nbformat": 4,
 "nbformat_minor": 2
}
