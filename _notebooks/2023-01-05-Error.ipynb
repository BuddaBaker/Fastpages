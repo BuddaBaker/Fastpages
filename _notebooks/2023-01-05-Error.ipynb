{
 "cells": [
  {
   "attachments": {},
   "cell_type": "markdown",
   "metadata": {},
   "source": [
    "The issue I had with my website was that it wouldn't run locally. The error was:\n",
    "In Gemfile:\n",
    "  github-pages was resolved to 214, which depends on\n",
    "    github-pages-health-check was resolved to 1.17.0, which depends on\n",
    "      dnsruby was resolved to 1.61.5, which depends on\n",
    "        simpleidn was resolved to 0.2.1, which depends on\n",
    "          unf was resolved to 0.1.4, which depends on\n",
    "            unf_ext\n",
    "\n",
    "I tried to restart the process in order to fix and I also tried searching online for the error to see if there were any solutions. The website I went to was stackoverflow which was not able to fix it. Here is the link to the website I used: https://stackoverflow.com/questions/67617616/error-when-running-the-command-bundler-install. "
   ]
  }
 ],
 "metadata": {
  "kernelspec": {
   "display_name": "Python 3",
   "language": "python",
   "name": "python3"
  },
  "language_info": {
   "name": "python",
   "version": "3.10.6 (main, Aug 10 2022, 11:40:04) [GCC 11.3.0]"
  },
  "orig_nbformat": 4,
  "vscode": {
   "interpreter": {
    "hash": "916dbcbb3f70747c44a77c7bcd40155683ae19c65e1c03b4aa3499c5328201f1"
   }
  }
 },
 "nbformat": 4,
 "nbformat_minor": 2
}
