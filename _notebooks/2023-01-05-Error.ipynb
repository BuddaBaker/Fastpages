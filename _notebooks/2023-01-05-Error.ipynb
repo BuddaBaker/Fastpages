{
 "cells": [
  {
   "attachments": {},
   "cell_type": "markdown",
   "metadata": {},
   "source": [
    "The issue I had with my website was that it wouldn't run locally. The error was:\n",
    "In Gemfile:\n",
    "  github-pages was resolved to 214, which depends on\n",
    "    github-pages-health-check was resolved to 1.17.0, which depends on\n",
    "      dnsruby was resolved to 1.61.5, which depends on\n",
    "        simpleidn was resolved to 0.2.1, which depends on\n",
    "          unf was resolved to 0.1.4, which depends on\n",
    "            unf_ext\n",
    "\n",
    "I tried to restart the process in order to fix and I also tried searching online for the error to see if there were any solutions. The website I went to was stackoverflow which was not able to fix it. Here is the link to the website I used: https://stackoverflow.com/questions/67617616/error-when-running-the-command-bundler-install. "
   ]
  }
 ],
 "metadata": {
  "language_info": {
   "name": "python"
  },
  "orig_nbformat": 4
 },
 "nbformat": 4,
 "nbformat_minor": 2
}
