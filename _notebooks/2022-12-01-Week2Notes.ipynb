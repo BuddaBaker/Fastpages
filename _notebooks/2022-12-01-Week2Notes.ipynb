{
 "cells": [
  {
   "cell_type": "markdown",
   "metadata": {},
   "source": [
    "# Week 2 Notes \n",
    "> Week 2 Notes \n",
    "\n",
    "- toc: true \n",
    "- badges: true\n",
    "- comments: true\n",
    "- categories: [Posts]\n",
    "- title: Week 2 Notes "
   ]
  },
  {
   "cell_type": "markdown",
   "metadata": {},
   "source": [
    "Section 1-2:\n",
    "- Lists are used to organize data\n",
    "- Split() splits lists and join() joins the lists toghether\n",
    "- In the AP Exam the indexing starts at 1 rather than 0\n",
    "- You can display data in Javascript through a function\n",
    "- You can convert javascript output to html in order for it to look good\n",
    "\n",
    "\n",
    "\n",
    "Section 5-7:\n",
    "- Boolean is True(1) and False(0)\n",
    "- Boolean operators produce certain numbers\n",
    "- Algorithm is a set of instructions that accomplish a task\n",
    "- Conditionals appear everywhere\n",
    "- Selection is driven by conditionals"
   ]
  }
 ],
 "metadata": {
  "kernelspec": {
   "display_name": "Python 3.10.6 64-bit",
   "language": "python",
   "name": "python3"
  },
  "language_info": {
   "name": "python",
   "version": "3.10.6"
  },
  "orig_nbformat": 4,
  "vscode": {
   "interpreter": {
    "hash": "916dbcbb3f70747c44a77c7bcd40155683ae19c65e1c03b4aa3499c5328201f1"
   }
  }
 },
 "nbformat": 4,
 "nbformat_minor": 2
}
