{
 "cells": [
  {
   "cell_type": "code",
   "execution_count": 2,
   "metadata": {},
   "outputs": [],
   "source": [
    "import sqlite3\n",
    "\n",
    "# create connection object and cursor\n",
    "conn = sqlite3.connect('files/sports.db')\n",
    "c = conn.cursor()\n",
    "\n",
    "# create table for players\n",
    "c.execute('''CREATE TABLE players\n",
    "             (id INTEGER PRIMARY KEY,\n",
    "             name TEXT,\n",
    "             sport TEXT,\n",
    "             team TEXT,\n",
    "             age INTEGER)''')\n",
    "\n",
    "# create table for teams\n",
    "c.execute('''CREATE TABLE teams\n",
    "             (id INTEGER PRIMARY KEY,\n",
    "             name TEXT,\n",
    "             sport TEXT,\n",
    "             city TEXT)''')\n",
    "\n",
    "# insert sample data for players\n",
    "c.execute(\"INSERT INTO players VALUES (1, 'LeBron James', 'Basketball', 'Los Angeles Lakers', 37)\")\n",
    "c.execute(\"INSERT INTO players VALUES (2, 'Tom Brady', 'Football', 'Tampa Bay Buccaneers', 44)\")\n",
    "c.execute(\"INSERT INTO players VALUES (3, 'Serena Williams', 'Tennis', 'N/A', 40)\")\n",
    "\n",
    "# insert sample data for teams\n",
    "c.execute(\"INSERT INTO teams VALUES (1, 'Los Angeles Lakers', 'Basketball', 'Los Angeles')\")\n",
    "c.execute(\"INSERT INTO teams VALUES (2, 'Tampa Bay Buccaneers', 'Football', 'Tampa Bay')\")\n",
    "c.execute(\"INSERT INTO teams VALUES (3, 'New York Yankees', 'Baseball', 'New York City')\")\n",
    "\n",
    "# commit changes and close connection\n",
    "conn.commit()\n",
    "conn.close()"
   ]
  },
  {
   "attachments": {},
   "cell_type": "markdown",
   "metadata": {},
   "source": [
    "# Create"
   ]
  },
  {
   "cell_type": "code",
   "execution_count": 4,
   "metadata": {},
   "outputs": [],
   "source": [
    "import sqlite3\n",
    "\n",
    "def create_player(name, sport, team, age):\n",
    "    # connect to database\n",
    "    conn = sqlite3.connect('files/sports.db')\n",
    "    c = conn.cursor()\n",
    "\n",
    "    # insert new player data\n",
    "    c.execute(\"INSERT INTO players (name, sport, team, age) VALUES (?, ?, ?, ?)\",\n",
    "              (name, sport, team, age))\n",
    "\n",
    "    # commit changes and close connection\n",
    "    conn.commit()\n",
    "    conn.close()\n",
    "\n",
    "# example usage\n",
    "create_player('Christiano Ronaldo', 'Soccer', 'Manchester United', 37)\n"
   ]
  },
  {
   "attachments": {},
   "cell_type": "markdown",
   "metadata": {},
   "source": [
    "# Read\n"
   ]
  },
  {
   "cell_type": "code",
   "execution_count": 5,
   "metadata": {},
   "outputs": [
    {
     "name": "stdout",
     "output_type": "stream",
     "text": [
      "(1, 'LeBron James', 'Basketball', 'Los Angeles Lakers', 37)\n",
      "(2, 'Tom Brady', 'Football', 'Tampa Bay Buccaneers', 44)\n",
      "(3, 'Serena Williams', 'Tennis', 'N/A', 40)\n",
      "(4, 'Cristiano Ronaldo', 'Soccer', 'Manchester United', 37)\n"
     ]
    }
   ],
   "source": [
    "import sqlite3\n",
    "\n",
    "def read_players():\n",
    "    # connect to database\n",
    "    conn = sqlite3.connect('files/sports.db')\n",
    "    c = conn.cursor()\n",
    "\n",
    "    # select all players from the players table\n",
    "    c.execute(\"SELECT * FROM players\")\n",
    "    players = c.fetchall()\n",
    "\n",
    "    # print player data\n",
    "    for player in players:\n",
    "        print(player)\n",
    "\n",
    "    # close connection\n",
    "    conn.close()\n",
    "\n",
    "# example usage\n",
    "read_players()\n"
   ]
  },
  {
   "attachments": {},
   "cell_type": "markdown",
   "metadata": {},
   "source": [
    "# Update"
   ]
  },
  {
   "cell_type": "code",
   "execution_count": 7,
   "metadata": {},
   "outputs": [],
   "source": [
    "import sqlite3\n",
    "\n",
    "def update_player_age(name, new_age):\n",
    "    # connect to database\n",
    "    conn = sqlite3.connect('files/sports.db')\n",
    "    c = conn.cursor()\n",
    "\n",
    "    # update player age\n",
    "    c.execute(\"UPDATE players SET age = ? WHERE name = ?\", (new_age, name))\n",
    "\n",
    "    # commit changes and close connection\n",
    "    conn.commit()\n",
    "    conn.close()\n",
    "\n",
    "# example usage\n",
    "update_player_age('LeBron James', 80)\n"
   ]
  },
  {
   "attachments": {},
   "cell_type": "markdown",
   "metadata": {},
   "source": [
    "# Delete"
   ]
  },
  {
   "cell_type": "code",
   "execution_count": null,
   "metadata": {},
   "outputs": [],
   "source": [
    "import sqlite3\n",
    "\n",
    "def delete_player(name):\n",
    "    # connect to database\n",
    "    conn = sqlite3.connect('files/sports.db')\n",
    "    c = conn.cursor()\n",
    "\n",
    "    # delete player\n",
    "    c.execute(\"DELETE FROM players WHERE name = ?\", (name,))\n",
    "\n",
    "    # commit changes and close connection\n",
    "    conn.commit()\n",
    "    conn.close()\n",
    "\n",
    "# example usage\n",
    "delete_player('Serena Williams')\n"
   ]
  }
 ],
 "metadata": {
  "kernelspec": {
   "display_name": "base",
   "language": "python",
   "name": "python3"
  },
  "language_info": {
   "codemirror_mode": {
    "name": "ipython",
    "version": 3
   },
   "file_extension": ".py",
   "mimetype": "text/x-python",
   "name": "python",
   "nbconvert_exporter": "python",
   "pygments_lexer": "ipython3",
   "version": "3.9.12"
  },
  "orig_nbformat": 4
 },
 "nbformat": 4,
 "nbformat_minor": 2
}
