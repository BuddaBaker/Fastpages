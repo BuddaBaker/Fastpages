{
 "cells": [
  {
   "cell_type": "markdown",
   "metadata": {},
   "source": []
  },
  {
   "cell_type": "markdown",
   "metadata": {},
   "source": [
    "- toc: true \n",
    "- badges: true\n",
    "- comments: true\n",
    "- categories: [Posts]\n",
    "- title: NBA Quiz"
   ]
  },
  {
   "cell_type": "markdown",
   "metadata": {},
   "source": [
    "# \"NBA Quiz\""
   ]
  },
  {
   "cell_type": "markdown",
   "metadata": {},
   "source": [
    "---\n",
    "title: NBA Quiz\n",
    "---"
   ]
  },
  {
   "cell_type": "code",
   "execution_count": 1,
   "metadata": {
    "vscode": {
     "languageId": "python"
    }
   },
   "outputs": [
    {
     "name": "stdout",
     "output_type": "stream",
     "text": [
      "Correct\n",
      "Correct\n",
      "Correct\n",
      "Correct\n",
      "You got: 100.0 %\n"
     ]
    }
   ],
   "source": [
    "\n",
    "def quiz():\n",
    "    points = 0\n",
    "    questions = [\"Who won the 2021-2022 NBA Championship?\", \"Which NBA franchise has the most MVP winners?\", \"Who won the 2021-2022 NBA MVP?\", \"Which NBA team(s) has the most rings?\"]\n",
    "    answers = [\"Warriors\", \"Celtics\", \"Nikola Jokic\", \"Celtics\"]\n",
    "    num = 0\n",
    "    while num <= 3:\n",
    "        answer = input(questions[num])\n",
    "        if answer == answers[num]:\n",
    "            print(\"Correct\")\n",
    "            points = points + 1\n",
    "        else:\n",
    "            print(\"Incorrect\")\n",
    "        num += 1\n",
    "    print(\"You got:\", (points/4)*100, \"%\")\n",
    "quiz()"
   ]
  }
 ],
 "metadata": {
  "kernelspec": {
   "display_name": "Python 3 (ipykernel)",
   "language": "python",
   "name": "python3"
  },
  "orig_nbformat": 4
 },
 "nbformat": 4,
 "nbformat_minor": 2
}
