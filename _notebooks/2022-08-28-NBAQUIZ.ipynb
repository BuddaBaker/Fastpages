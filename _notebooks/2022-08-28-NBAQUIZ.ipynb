{
 "cells": [
  {
   "cell_type": "code",
   "execution_count": null,
   "metadata": {},
   "outputs": [],
   "source": [
    "points = 0\n",
    "answer = input(\"Who won the 2021-2022 NBA Championship?\")\n",
    "if answer == \"Warriors\":\n",
    "    print(\"Correct answer!\")\n",
    "    points += 1\n",
    "else: \n",
    "    print(\"incorrect answer\")\n",
    "    \n",
    "answer = input(\"Which NBA franchise has the most MVP winners?\")\n",
    "if answer == \"Celtics\":\n",
    "    print(\"Correct answer!\")\n",
    "    points += 1\n",
    "else: \n",
    "    print(\"incorrect answer\")\n",
    "    \n",
    "answer = input(\"Who won the 2021-2022 NBA MVP?\")\n",
    "if answer == \"Nikola Jokic\":\n",
    "    print(\"Correct answer!\")\n",
    "    points += 1\n",
    "else: \n",
    "    print(\"incorrect answer\")\n",
    "\n",
    "answer = input(\"Which NBA team(s) has the most rings?\")\n",
    "if answer == \"Celtics\":\n",
    "    print(\"Correct answer!\")\n",
    "    points += 1\n",
    "else: \n",
    "    print(\"incorrect answer\")\n",
    "\n",
    "print(\"You got:\", (points/4)*100, \"%\")"
   ]
  },
  {
   "cell_type": "markdown",
   "metadata": {},
   "source": [
    "- title: NBA Quiz"
   ]
  }
 ],
 "metadata": {
  "language_info": {
   "name": "python"
  },
  "orig_nbformat": 4
 },
 "nbformat": 4,
 "nbformat_minor": 2
}
