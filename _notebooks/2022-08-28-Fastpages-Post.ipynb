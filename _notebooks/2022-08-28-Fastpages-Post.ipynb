{
  "nbformat": 4,
  "nbformat_minor": 0,
  "metadata": {
    "colab": {
      "name": "Fastpages.ipynb",
      "provenance": []
    },
    "kernelspec": {
      "name": "python3",
      "display_name": "Python 3"
    },
    "language_info": {
      "name": "python"
    }
  },
  "cells": [
    {
      "cell_type": "code",
      "execution_count": null,
      "metadata": {
        "id": "V0mLtiebFWwe"
      },
      "outputs": [],
      "source": []
    },
    {
      "cell_type": "markdown",
      "source": [
        "#Github FastPages project by Prasith Chilla using Jupyter Notebooks\n",
        "\n",
        "Assignment demonstrating linking the github fastpages to jupyter notebook.\n",
        "\n",
        "- toc: true \n",
        "- badges: true\n",
        "- comments: true\n",
        "- image: images/padelpy.png\n",
        "\n"
      ],
      "metadata": {
        "id": "tbdka_DqFene"
      }
    },
    {
      "cell_type": "code",
      "source": [],
      "metadata": {
        "id": "4n03eqVBFZDq"
      },
      "execution_count": null,
      "outputs": []
    }
  ]
}