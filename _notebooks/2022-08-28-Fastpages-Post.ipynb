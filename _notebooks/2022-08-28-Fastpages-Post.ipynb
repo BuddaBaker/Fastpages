{
  "cells": [
    {
      "cell_type": "markdown",
      "metadata": {},
      "source": [
        "---\n",
        "title: My first Jupyter Notebook\n",
        "\n",
        "- toc: true \n",
        "- badges: true\n",
        "- comments: true\n",
        "- categories: [jupyter]\n",
        "- title: My First Jypter Notebook\n",
        "---"
      ]
    },
    {
      "cell_type": "code",
      "execution_count": 1,
      "metadata": {
        "vscode": {
          "languageId": "python"
        }
      },
      "outputs": [
        {
          "name": "stdout",
          "output_type": "stream",
          "text": [
            "Hello World\n"
          ]
        }
      ],
      "source": [
        "print(\"Hello World\")"
      ]
    },
    {
      "cell_type": "markdown",
      "metadata": {
        "id": "tbdka_DqFene"
      },
      "source": [
        "#Github FastPages project by Prasith Chilla using Jupyter Notebooks\n",
        "\n",
        "Assignment demonstrating linking the github fastpages to jupyter notebook.\n",
        "\n",
        "- toc: true \n",
        "- badges: true\n",
        "- comments: true\n",
        "- image: images/padelpy.png\n",
        "\n"
      ]
    }
  ],
  "metadata": {
    "colab": {
      "name": "Fastpages.ipynb",
      "provenance": []
    },
    "kernelspec": {
      "display_name": "Python 3 (ipykernel)",
      "language": "python",
      "name": "python3"
    }
  },
  "nbformat": 4,
  "nbformat_minor": 0
}
