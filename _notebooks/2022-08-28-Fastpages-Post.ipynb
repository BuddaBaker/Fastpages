{
  "cells": [
    {
      "cell_type": "markdown",
      "metadata": {},
      "source": [
        "---\n",
        "title: Github Jupyter Notebook\n",
        "---"
      ]
    },
    {
      "cell_type": "code",
      "execution_count": null,
      "metadata": {
        "vscode": {
          "languageId": "python"
        }
      },
      "outputs": [],
      "source": [
        "print(\"Hello World\")"
      ]
    },
    {
      "cell_type": "markdown",
      "metadata": {
        "id": "tbdka_DqFene"
      },
      "source": [
        "#Github FastPages project by Prasith Chilla using Jupyter Notebooks\n",
        "\n",
        "Assignment demonstrating linking the github fastpages to jupyter notebook.\n",
        "\n",
        "- toc: true \n",
        "- badges: true\n",
        "- comments: true\n",
        "- image: images/padelpy.png\n",
        "\n"
      ]
    }
  ],
  "metadata": {
    "colab": {
      "name": "Fastpages.ipynb",
      "provenance": []
    },
    "kernelspec": {
      "display_name": "Python 3 (ipykernel)",
      "language": "python",
      "name": "python3"
    }
  },
  "nbformat": 4,
  "nbformat_minor": 0
}
